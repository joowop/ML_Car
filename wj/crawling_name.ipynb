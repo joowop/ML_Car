{
 "cells": [
  {
   "cell_type": "code",
   "execution_count": 82,
   "metadata": {},
   "outputs": [],
   "source": [
    "import requests\n",
    "import time\n",
    "from bs4 import BeautifulSoup\n",
    "import pandas as pd\n",
    "from selenium import webdriver\n",
    "from selenium.webdriver.common.keys import Keys\n",
    "from selenium.webdriver.common.by import By\n",
    "from selenium.webdriver.chrome.service import Service\n",
    "from webdriver_manager.chrome import ChromeDriverManager\n",
    "\n",
    "# 크롬 웹드라이버 설치 및 설정\n",
    "chrome_options = webdriver.ChromeOptions()\n",
    "\n",
    "# user 로 보이기위한 user_agent// 각자의 컴퓨터에 맞게 확인 필요\n",
    "user_agent = 'Mozilla/5.0 (Windows NT 10.0; Win64; x64) AppleWebKit/537.36 (KHTML, like Gecko) Chrome/114.0.0.0 Safari/537.36'\n",
    "chrome_options.add_argument('user-agent=' + user_agent)\n",
    "\n",
    "chrome_options.add_experimental_option('detach', True)\n",
    "driver = webdriver.Chrome(service=Service(ChromeDriverManager().install()), options=chrome_options)\n",
    "driver.maximize_window()\n",
    "\n",
    "url = 'https://www.bobaedream.co.kr/dealguide/market_price_new.php'\n",
    "\n",
    "df_cars=[]\n",
    "\n",
    "count = -1\n",
    "\n",
    "# 크롬 열기 및 주소입력\n",
    "driver.get(url)\n",
    "driver.implicitly_wait(5)\n",
    "time.sleep(1)\n",
    "\n",
    "brand = []\n",
    "#model = {brand:[]}\n",
    "model = {}\n",
    "\n"
   ]
  },
  {
   "cell_type": "code",
   "execution_count": 61,
   "metadata": {},
   "outputs": [],
   "source": [
    "# 매물 선택\n",
    "driver.find_element(By.XPATH, '//*[@id=\"frm_search\"]/div/div/div[1]/div/dl/dd[1]/button').click()\n",
    "\n",
    "driver.implicitly_wait(5)\n",
    "time.sleep(2)\n",
    "\n",
    "# 페이지 읽기\n",
    "html = driver.page_source\n",
    "soup = BeautifulSoup(html, 'html.parser')\n",
    "time.sleep(1)"
   ]
  },
  {
   "cell_type": "code",
   "execution_count": 63,
   "metadata": {},
   "outputs": [
    {
     "data": {
      "text/plain": [
       "['현대', '제네시스', '기아', '쉐보레/대우', '르노코리아(삼성)', '쌍용', '어울림모터스', '기타 국산차']"
      ]
     },
     "execution_count": 63,
     "metadata": {},
     "output_type": "execute_result"
    }
   ],
   "source": [
    "# 브랜드명 구역 추출하기\n",
    "name_sections = soup.find(\"dl\", attrs={\"class\": \"group-list\"})\n",
    "#print(name_sections)\n",
    "tmp = name_sections.find_all(\"span\", class_=\"t1\")\n",
    "#print(tmp)\n",
    "for item in tmp:\n",
    "    a = item.get_text()\n",
    "    brand.append(a)\n",
    "brand"
   ]
  },
  {
   "cell_type": "code",
   "execution_count": 76,
   "metadata": {},
   "outputs": [
    {
     "data": {
      "text/plain": [
       "{'현대': ['i20',\n",
       "  'i30',\n",
       "  'i40',\n",
       "  '갤로퍼',\n",
       "  '그라나다',\n",
       "  '그랜저',\n",
       "  '그레이스',\n",
       "  '넥쏘',\n",
       "  '다이너스티',\n",
       "  '라비타',\n",
       "  '리베로',\n",
       "  '마르샤',\n",
       "  '마이티',\n",
       "  '맥스크루즈',\n",
       "  '베뉴',\n",
       "  '베라크루즈',\n",
       "  '베르나',\n",
       "  '벨로스터',\n",
       "  '블루온',\n",
       "  '스쿠프',\n",
       "  '스타렉스',\n",
       "  '스타리아',\n",
       "  '스텔라',\n",
       "  '싼타모',\n",
       "  '싼타페',\n",
       "  '쏘나타',\n",
       "  '쏠라티',\n",
       "  '아반떼',\n",
       "  '아슬란',\n",
       "  '아이오닉',\n",
       "  '아이오닉5',\n",
       "  '아이오닉6',\n",
       "  '아토스',\n",
       "  '에어로',\n",
       "  '에쿠스',\n",
       "  '엑센트',\n",
       "  '엑셀',\n",
       "  '엘란트라',\n",
       "  '제네시스',\n",
       "  '카운티',\n",
       "  '캐스퍼',\n",
       "  '코나',\n",
       "  '코러스',\n",
       "  '코티나',\n",
       "  '클릭',\n",
       "  '캠핑카',\n",
       "  '테라칸',\n",
       "  '투스카니',\n",
       "  '투싼',\n",
       "  '트라고',\n",
       "  '엑시언트',\n",
       "  '트라제XG',\n",
       "  '트럭',\n",
       "  '티뷰론',\n",
       "  '팰리세이드',\n",
       "  '포니',\n",
       "  '포터',\n",
       "  '포레스트',\n",
       "  '프레스토',\n",
       "  'RB버스',\n",
       "  '파비스',\n",
       "  '그린시티',\n",
       "  '유니버스',\n",
       "  '유니시티',\n",
       "  '기타']}"
      ]
     },
     "execution_count": 76,
     "metadata": {},
     "output_type": "execute_result"
    }
   ],
   "source": [
    "#해당 브랜드에 모델명 추가하기\n",
    "model_section = soup.find_all(\"dl\", attrs={\"class\": \"group-list\"})[1]\n",
    "#print(model_section)\n",
    "tmp = model_section.find_all(\"span\", class_=\"t1\")\n",
    "model = {brand[0]:[]}\n",
    "for item in tmp:\n",
    "    a = item.get_text()\n",
    "    model[brand[0]].append(a)\n",
    "model"
   ]
  },
  {
   "cell_type": "code",
   "execution_count": 93,
   "metadata": {},
   "outputs": [
    {
     "name": "stdout",
     "output_type": "stream",
     "text": [
      "['현대', '제네시스', '기아', '쉐보레/대우', '르노코리아(삼성)', '쌍용', '어울림모터스', '기타 국산차']\n",
      "<class 'list'>\n"
     ]
    },
    {
     "ename": "ValueError",
     "evalue": "Single '}' encountered in format string",
     "output_type": "error",
     "traceback": [
      "\u001b[1;31m---------------------------------------------------------------------------\u001b[0m",
      "\u001b[1;31mValueError\u001b[0m                                Traceback (most recent call last)",
      "Cell \u001b[1;32mIn[93], line 53\u001b[0m\n\u001b[0;32m     51\u001b[0m brand\u001b[39m=\u001b[39m[]\n\u001b[0;32m     52\u001b[0m model\u001b[39m=\u001b[39m{}\n\u001b[1;32m---> 53\u001b[0m crawling()\n\u001b[0;32m     55\u001b[0m \u001b[39mprint\u001b[39m(model)\n",
      "Cell \u001b[1;32mIn[93], line 30\u001b[0m, in \u001b[0;36mcrawling\u001b[1;34m()\u001b[0m\n\u001b[0;32m     27\u001b[0m \u001b[39mfor\u001b[39;00m i \u001b[39min\u001b[39;00m \u001b[39mrange\u001b[39m(\u001b[39mlen\u001b[39m(brand)):\n\u001b[0;32m     28\u001b[0m     \u001b[39m# 매물 선택\u001b[39;00m\n\u001b[0;32m     29\u001b[0m     path \u001b[39m=\u001b[39m \u001b[39m'\u001b[39m\u001b[39m//*[@id=\u001b[39m\u001b[39m\"\u001b[39m\u001b[39mfrm_search\u001b[39m\u001b[39m\"\u001b[39m\u001b[39m]/div/div/div[1]/div/dl/dd[\u001b[39m\u001b[39m{0}\u001b[39;00m\u001b[39m}]/button\u001b[39m\u001b[39m'\u001b[39m\n\u001b[1;32m---> 30\u001b[0m     path_com \u001b[39m=\u001b[39m path\u001b[39m.\u001b[39mformat(\u001b[39mstr\u001b[39m(i\u001b[39m+\u001b[39m\u001b[39m1\u001b[39m))\n\u001b[0;32m     31\u001b[0m     driver\u001b[39m.\u001b[39mfind_element(By\u001b[39m.\u001b[39mXPATH, path_com)\u001b[39m.\u001b[39mclick()\n\u001b[0;32m     33\u001b[0m     driver\u001b[39m.\u001b[39mimplicitly_wait(\u001b[39m5\u001b[39m)\n",
      "\u001b[1;31mValueError\u001b[0m: Single '}' encountered in format string"
     ]
    }
   ],
   "source": [
    "\n",
    "def crawling():\n",
    "\n",
    "    # 매물 선택\n",
    "    driver.find_element(By.XPATH, '//*[@id=\"frm_search\"]/div/div/div[1]/div/dl/dd[1]/button').click()\n",
    "\n",
    "    driver.implicitly_wait(5)\n",
    "    time.sleep(2)\n",
    "\n",
    "    # 페이지 읽기\n",
    "    html = driver.page_source\n",
    "    soup = BeautifulSoup(html, 'html.parser')\n",
    "    time.sleep(1)\n",
    "\n",
    "    # 브랜드명 구역 추출하기\n",
    "    name_sections = soup.find(\"dl\", attrs={\"class\": \"group-list\"})\n",
    "    #print(name_sections)\n",
    "    tmp = name_sections.find_all(\"span\", class_=\"t1\")\n",
    "    #print(tmp)\n",
    "    for item in tmp:\n",
    "        a = item.get_text()\n",
    "        brand.append(a)\n",
    "    #brand\n",
    "    print(brand)\n",
    "    print(type(brand))\n",
    "    #len = len(brand)\n",
    "\n",
    "    for i in range(len(brand)):\n",
    "        # 브랜드 선택 -> 매물 확인\n",
    "        path = '//*[@id=\"frm_search\"]/div/div/div[1]/div/dl/dd[{0}}]/button'\n",
    "        path_com = path.format(str(i+1))\n",
    "        driver.find_element(By.XPATH, path_com).click()\n",
    "\n",
    "        driver.implicitly_wait(5)\n",
    "        time.sleep(2)\n",
    "\n",
    "        # 페이지 읽기\n",
    "        html = driver.page_source\n",
    "        soup = BeautifulSoup(html, 'html.parser')\n",
    "        time.sleep(1)\n",
    "\n",
    "        #해당 브랜드에 모델명 추가하기\n",
    "        model_section = soup.find_all(\"dl\", attrs={\"class\": \"group-list\"})[1]\n",
    "        #print(model_section)\n",
    "        tmp = model_section.find_all(\"span\", class_=\"t1\")\n",
    "        model = {brand[i]:[]}\n",
    "        for item in tmp:\n",
    "            a = item.get_text()\n",
    "            model[brand[i]].append(a)\n",
    "        #model\n",
    "    \n",
    "brand=[]\n",
    "model={}\n",
    "crawling()\n",
    "\n",
    "print(model)\n"
   ]
  }
 ],
 "metadata": {
  "kernelspec": {
   "display_name": "py",
   "language": "python",
   "name": "python3"
  },
  "language_info": {
   "codemirror_mode": {
    "name": "ipython",
    "version": 3
   },
   "file_extension": ".py",
   "mimetype": "text/x-python",
   "name": "python",
   "nbconvert_exporter": "python",
   "pygments_lexer": "ipython3",
   "version": "3.11.3"
  },
  "orig_nbformat": 4
 },
 "nbformat": 4,
 "nbformat_minor": 2
}
