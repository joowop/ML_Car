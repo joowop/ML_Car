{
 "cells": [
  {
   "cell_type": "code",
   "execution_count": 101,
   "metadata": {},
   "outputs": [],
   "source": [
    "import requests\n",
    "import time\n",
    "from bs4 import BeautifulSoup\n",
    "import pandas as pd\n",
    "from selenium import webdriver\n",
    "from selenium.webdriver.common.keys import Keys\n",
    "from selenium.webdriver.common.by import By\n",
    "from selenium.webdriver.chrome.service import Service\n",
    "from webdriver_manager.chrome import ChromeDriverManager\n",
    "\n",
    "# 크롬 웹드라이버 설치 및 설정\n",
    "chrome_options = webdriver.ChromeOptions()\n",
    "\n",
    "# user 로 보이기위한 user_agent// 각자의 컴퓨터에 맞게 확인 필요\n",
    "user_agent = 'Mozilla/5.0 (Windows NT 10.0; Win64; x64) AppleWebKit/537.36 (KHTML, like Gecko) Chrome/114.0.0.0 Safari/537.36'\n",
    "chrome_options.add_argument('user-agent=' + user_agent)\n",
    "\n",
    "chrome_options.add_experimental_option('detach', True)\n",
    "driver = webdriver.Chrome(service=Service(ChromeDriverManager().install()), options=chrome_options)\n",
    "driver.maximize_window()\n",
    "\n",
    "url = 'https://www.bobaedream.co.kr/dealguide/market_price_new.php'\n",
    "\n",
    "df_cars=[]\n",
    "\n",
    "count = -1\n",
    "\n",
    "# 크롬 열기 및 주소입력\n",
    "driver.get(url)\n",
    "driver.implicitly_wait(5)\n",
    "time.sleep(1)\n",
    "\n",
    "brand = []\n",
    "#model = {brand:[]}\n",
    "model = {}\n",
    "\n"
   ]
  },
  {
   "cell_type": "code",
   "execution_count": 61,
   "metadata": {},
   "outputs": [],
   "source": [
    "# 매물 선택\n",
    "driver.find_element(By.XPATH, '//*[@id=\"frm_search\"]/div/div/div[1]/div/dl/dd[1]/button').click()\n",
    "\n",
    "driver.implicitly_wait(5)\n",
    "time.sleep(2)\n",
    "\n",
    "# 페이지 읽기\n",
    "html = driver.page_source\n",
    "soup = BeautifulSoup(html, 'html.parser')\n",
    "time.sleep(1)"
   ]
  },
  {
   "cell_type": "code",
   "execution_count": 63,
   "metadata": {},
   "outputs": [
    {
     "data": {
      "text/plain": [
       "['현대', '제네시스', '기아', '쉐보레/대우', '르노코리아(삼성)', '쌍용', '어울림모터스', '기타 국산차']"
      ]
     },
     "execution_count": 63,
     "metadata": {},
     "output_type": "execute_result"
    }
   ],
   "source": [
    "# 브랜드명 구역 추출하기\n",
    "name_sections = soup.find(\"dl\", attrs={\"class\": \"group-list\"})\n",
    "#print(name_sections)\n",
    "tmp = name_sections.find_all(\"span\", class_=\"t1\")\n",
    "#print(tmp)\n",
    "for item in tmp:\n",
    "    a = item.get_text()\n",
    "    brand.append(a)\n",
    "brand"
   ]
  },
  {
   "cell_type": "code",
   "execution_count": 76,
   "metadata": {},
   "outputs": [
    {
     "data": {
      "text/plain": [
       "{'현대': ['i20',\n",
       "  'i30',\n",
       "  'i40',\n",
       "  '갤로퍼',\n",
       "  '그라나다',\n",
       "  '그랜저',\n",
       "  '그레이스',\n",
       "  '넥쏘',\n",
       "  '다이너스티',\n",
       "  '라비타',\n",
       "  '리베로',\n",
       "  '마르샤',\n",
       "  '마이티',\n",
       "  '맥스크루즈',\n",
       "  '베뉴',\n",
       "  '베라크루즈',\n",
       "  '베르나',\n",
       "  '벨로스터',\n",
       "  '블루온',\n",
       "  '스쿠프',\n",
       "  '스타렉스',\n",
       "  '스타리아',\n",
       "  '스텔라',\n",
       "  '싼타모',\n",
       "  '싼타페',\n",
       "  '쏘나타',\n",
       "  '쏠라티',\n",
       "  '아반떼',\n",
       "  '아슬란',\n",
       "  '아이오닉',\n",
       "  '아이오닉5',\n",
       "  '아이오닉6',\n",
       "  '아토스',\n",
       "  '에어로',\n",
       "  '에쿠스',\n",
       "  '엑센트',\n",
       "  '엑셀',\n",
       "  '엘란트라',\n",
       "  '제네시스',\n",
       "  '카운티',\n",
       "  '캐스퍼',\n",
       "  '코나',\n",
       "  '코러스',\n",
       "  '코티나',\n",
       "  '클릭',\n",
       "  '캠핑카',\n",
       "  '테라칸',\n",
       "  '투스카니',\n",
       "  '투싼',\n",
       "  '트라고',\n",
       "  '엑시언트',\n",
       "  '트라제XG',\n",
       "  '트럭',\n",
       "  '티뷰론',\n",
       "  '팰리세이드',\n",
       "  '포니',\n",
       "  '포터',\n",
       "  '포레스트',\n",
       "  '프레스토',\n",
       "  'RB버스',\n",
       "  '파비스',\n",
       "  '그린시티',\n",
       "  '유니버스',\n",
       "  '유니시티',\n",
       "  '기타']}"
      ]
     },
     "execution_count": 76,
     "metadata": {},
     "output_type": "execute_result"
    }
   ],
   "source": [
    "#해당 브랜드에 모델명 추가하기\n",
    "model_section = soup.find_all(\"dl\", attrs={\"class\": \"group-list\"})[1]\n",
    "#print(model_section)\n",
    "tmp = model_section.find_all(\"span\", class_=\"t1\")\n",
    "model = {brand[0]:[]}\n",
    "for item in tmp:\n",
    "    a = item.get_text()\n",
    "    model[brand[0]].append(a)\n",
    "model"
   ]
  },
  {
   "cell_type": "code",
   "execution_count": 107,
   "metadata": {},
   "outputs": [
    {
     "name": "stdout",
     "output_type": "stream",
     "text": [
      "['현대', '제네시스', '기아', '쉐보레/대우', '르노코리아(삼성)', '쌍용', '어울림모터스', '기타 국산차']\n",
      "{'현대': ['i20', 'i30', 'i40', '갤로퍼', '그라나다', '그랜저', '그레이스', '넥쏘', '다이너스티', '라비타', '리베로', '마르샤', '마이티', '맥스크루즈', '베뉴', '베라크루즈', '베르나', '벨로스터', '블루온', '스쿠프', '스타렉스', '스타리아', '스텔라', '싼타모', '싼타페', '쏘나타', '쏠라티', '아반떼', '아슬란', '아이오닉', '아이오닉5', '아이오닉6', '아토스', '에어로', '에쿠스', '엑센트', '엑셀', '엘란트라', '제네시스', '카운티', '캐스퍼', '코나', '코러스', '코티나', '클릭', '캠핑카', '테라칸', '투스카니', '투싼', '트라고', '엑시언트', '트라제XG', '트럭', '티뷰론', '팰리세이드', '포니', '포터', '포레스트', '프레스토', 'RB버스', '파비스', '그린시티', '유니버스', '유니시티', '기타'], '제네시스': ['G70', 'G80', 'G90', 'GV60', 'GV70', 'GV80', 'EQ900'], '기아': ['EV6', 'K3', 'K5', 'K7', 'K8', 'K9', 'X-트렉', '그랜버드', '니로', '라이노', '레이', '레토나', '로체', '록스타', '리오', '모닝', '모하비', '베스타', '복사', '봉고', '브리사', '비스토', '세레스', '세이블', '세피아', '셀토스', '슈마', '스토닉', '스팅어', '스펙트라', '스포티지', '쎄라토', '쏘렌토', '쏘울', '아벨라', '엔터프라이즈', '엘란', '오피러스', '옵티마', '카니발', '카렌스', '카스타', '캐피탈', '캠핑카', '코스모스', '콤비', '콩코드', '크레도스', '타우너', '타이탄', '텔루라이드', '토픽', '트럭', '트레이드', '파맥스', '파크타운', '포르테', '포텐샤', '프라이드', '프레지오', '피아트 132', '기타'], '쉐보레/대우': ['말리부', '볼트', '볼트(VOLT) ', '스파크', '아베오', '올란도', '이쿼녹스', '임팔라', '카마로', '콜로라도', '콜벳', '캡티바', '크루즈', '타호', '트래버스', '트레일블레이저', '트랙스', 'G2X', '구쎈', '넥시아', '누비라', '다마스', '더쎈', '라노스', '라보', '라세티', '레간자', '레스타', '레조', '로얄살롱', '르망', '마티즈', '매그너스', '맥쎈', '맵시', '맵시나', '바네트', '베리타스', '브로엄', '수퍼살롱', '스테이츠맨', '씨에로', '아카디아', '알페온', '에스페로', '윈스톰', '임페리얼', '젠트라', '칼로스', '토스카', '트럭', '티코', '프리마', '프린스', '기타'], '르노코리아(삼성)': ['SM3', 'SM5', 'SM6', 'SM7', 'QM3', 'QM5', 'QM6', 'XM3', '마스터', '야무진', '조에', '캡처', '클리오', '트럭', '트위지', '기타'], '쌍용': ['렉스턴', '로디우스', '무쏘', '액티언', '이스타나', '체어맨', '카이런', '칼리스타', '코란도', '코란도 이모션', '토레스', '티볼리', '트럭', '기타'], '어울림모터스': ['스피라'], '기타 국산차': ['전기차', '캠핑카', '캠핑 트레일러', '기타']}\n"
     ]
    }
   ],
   "source": [
    "\n",
    "def crawling(brand):\n",
    "\n",
    "    # 매물 선택\n",
    "    driver.find_element(By.XPATH, '//*[@id=\"frm_search\"]/div/div/div[1]/div/dl/dd[1]/button').click()\n",
    "\n",
    "    driver.implicitly_wait(5)\n",
    "    time.sleep(2)\n",
    "\n",
    "    # 페이지 읽기\n",
    "    html = driver.page_source\n",
    "    soup = BeautifulSoup(html, 'html.parser')\n",
    "    time.sleep(1)\n",
    "\n",
    "    # 브랜드명 구역 추출하기\n",
    "    name_sections = soup.find(\"dl\", attrs={\"class\": \"group-list\"})\n",
    "    #print(name_sections)\n",
    "    tmp = name_sections.find_all(\"span\", class_=\"t1\")\n",
    "    #print(tmp)\n",
    "    for item in tmp:\n",
    "        a = item.get_text()\n",
    "        brand.append(a)\n",
    "    #brand\n",
    "    #print(brand)\n",
    "    #print(type(brand))\n",
    "    #len = len(brand)\n",
    "\n",
    "    for i in range(len(brand)):\n",
    "        # 브랜드 선택 -> 매물 확인\n",
    "        path = '//*[@id=\"frm_search\"]/div/div/div[1]/div/dl/dd[{0}]/button'\n",
    "        path_com = path.format(str(i+1))\n",
    "        driver.find_element(By.XPATH, path_com).click()\n",
    "\n",
    "        driver.implicitly_wait(5)\n",
    "        time.sleep(2)\n",
    "\n",
    "        # 페이지 읽기\n",
    "        html = driver.page_source\n",
    "        soup = BeautifulSoup(html, 'html.parser')\n",
    "        time.sleep(1)\n",
    "\n",
    "        #해당 브랜드에 모델명 추가하기\n",
    "        model_section = soup.find_all(\"dl\", attrs={\"class\": \"group-list\"})[1]\n",
    "        #print(model_section)\n",
    "        tmp = model_section.find_all(\"span\", class_=\"t1\")\n",
    "        model[brand[i]]=[]\n",
    "        for item in tmp:\n",
    "            a = item.get_text()\n",
    "            model[brand[i]].append(a)\n",
    "        #print(model)\n",
    "\n",
    "    return model\n",
    "    \n",
    "brand=[]\n",
    "model={}\n",
    "model = crawling(brand)\n",
    "\n",
    "print(brand)\n",
    "print(model)\n",
    "\n"
   ]
  },
  {
   "cell_type": "code",
   "execution_count": 108,
   "metadata": {},
   "outputs": [],
   "source": [
    "import csv\n",
    "\n",
    "with open('../model_label.csv','w') as f:\n",
    "    w = csv.writer(f)\n",
    "    w.writerow(model.keys())\n",
    "    w.writerow(model.values())"
   ]
  }
 ],
 "metadata": {
  "kernelspec": {
   "display_name": "py",
   "language": "python",
   "name": "python3"
  },
  "language_info": {
   "codemirror_mode": {
    "name": "ipython",
    "version": 3
   },
   "file_extension": ".py",
   "mimetype": "text/x-python",
   "name": "python",
   "nbconvert_exporter": "python",
   "pygments_lexer": "ipython3",
   "version": "3.11.3"
  },
  "orig_nbformat": 4
 },
 "nbformat": 4,
 "nbformat_minor": 2
}
