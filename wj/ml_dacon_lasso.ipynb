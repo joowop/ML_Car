{
 "cells": [
  {
   "cell_type": "code",
   "execution_count": 39,
   "metadata": {},
   "outputs": [
    {
     "data": {
      "text/html": [
       "<div>\n",
       "<style scoped>\n",
       "    .dataframe tbody tr th:only-of-type {\n",
       "        vertical-align: middle;\n",
       "    }\n",
       "\n",
       "    .dataframe tbody tr th {\n",
       "        vertical-align: top;\n",
       "    }\n",
       "\n",
       "    .dataframe thead th {\n",
       "        text-align: right;\n",
       "    }\n",
       "</style>\n",
       "<table border=\"1\" class=\"dataframe\">\n",
       "  <thead>\n",
       "    <tr style=\"text-align: right;\">\n",
       "      <th></th>\n",
       "      <th>ID</th>\n",
       "      <th>Year_prd</th>\n",
       "      <th>Year_model</th>\n",
       "      <th>Brand</th>\n",
       "      <th>Model</th>\n",
       "      <th>City</th>\n",
       "      <th>Area</th>\n",
       "      <th>Mileage</th>\n",
       "      <th>CC</th>\n",
       "      <th>Fuel_CNG</th>\n",
       "      <th>Fuel_Diesel</th>\n",
       "      <th>Fuel_Gasoline</th>\n",
       "      <th>Fuel_Hybrid</th>\n",
       "      <th>Fuel_LPG</th>\n",
       "      <th>Price</th>\n",
       "    </tr>\n",
       "  </thead>\n",
       "  <tbody>\n",
       "    <tr>\n",
       "      <th>0</th>\n",
       "      <td>TRAIN_00000</td>\n",
       "      <td>2018</td>\n",
       "      <td>2014</td>\n",
       "      <td>16</td>\n",
       "      <td>47</td>\n",
       "      <td>1214</td>\n",
       "      <td>12</td>\n",
       "      <td>85231</td>\n",
       "      <td>999</td>\n",
       "      <td>0</td>\n",
       "      <td>0</td>\n",
       "      <td>1</td>\n",
       "      <td>0</td>\n",
       "      <td>0</td>\n",
       "      <td>51.74</td>\n",
       "    </tr>\n",
       "    <tr>\n",
       "      <th>1</th>\n",
       "      <td>TRAIN_00001</td>\n",
       "      <td>2010</td>\n",
       "      <td>2006</td>\n",
       "      <td>17</td>\n",
       "      <td>20</td>\n",
       "      <td>2137</td>\n",
       "      <td>13</td>\n",
       "      <td>135000</td>\n",
       "      <td>1598</td>\n",
       "      <td>0</td>\n",
       "      <td>0</td>\n",
       "      <td>1</td>\n",
       "      <td>0</td>\n",
       "      <td>0</td>\n",
       "      <td>41.47</td>\n",
       "    </tr>\n",
       "    <tr>\n",
       "      <th>2</th>\n",
       "      <td>TRAIN_00002</td>\n",
       "      <td>2002</td>\n",
       "      <td>2002</td>\n",
       "      <td>9</td>\n",
       "      <td>36</td>\n",
       "      <td>785</td>\n",
       "      <td>15</td>\n",
       "      <td>255223</td>\n",
       "      <td>1796</td>\n",
       "      <td>0</td>\n",
       "      <td>0</td>\n",
       "      <td>1</td>\n",
       "      <td>0</td>\n",
       "      <td>0</td>\n",
       "      <td>17.81</td>\n",
       "    </tr>\n",
       "    <tr>\n",
       "      <th>3</th>\n",
       "      <td>TRAIN_00003</td>\n",
       "      <td>2006</td>\n",
       "      <td>2001</td>\n",
       "      <td>11</td>\n",
       "      <td>133</td>\n",
       "      <td>546</td>\n",
       "      <td>15</td>\n",
       "      <td>238000</td>\n",
       "      <td>2184</td>\n",
       "      <td>0</td>\n",
       "      <td>1</td>\n",
       "      <td>0</td>\n",
       "      <td>0</td>\n",
       "      <td>0</td>\n",
       "      <td>18.20</td>\n",
       "    </tr>\n",
       "    <tr>\n",
       "      <th>4</th>\n",
       "      <td>TRAIN_00004</td>\n",
       "      <td>2007</td>\n",
       "      <td>2007</td>\n",
       "      <td>3</td>\n",
       "      <td>25</td>\n",
       "      <td>1839</td>\n",
       "      <td>5</td>\n",
       "      <td>251000</td>\n",
       "      <td>1910</td>\n",
       "      <td>0</td>\n",
       "      <td>1</td>\n",
       "      <td>0</td>\n",
       "      <td>0</td>\n",
       "      <td>0</td>\n",
       "      <td>17.55</td>\n",
       "    </tr>\n",
       "    <tr>\n",
       "      <th>...</th>\n",
       "      <td>...</td>\n",
       "      <td>...</td>\n",
       "      <td>...</td>\n",
       "      <td>...</td>\n",
       "      <td>...</td>\n",
       "      <td>...</td>\n",
       "      <td>...</td>\n",
       "      <td>...</td>\n",
       "      <td>...</td>\n",
       "      <td>...</td>\n",
       "      <td>...</td>\n",
       "      <td>...</td>\n",
       "      <td>...</td>\n",
       "      <td>...</td>\n",
       "      <td>...</td>\n",
       "    </tr>\n",
       "    <tr>\n",
       "      <th>57915</th>\n",
       "      <td>TRAIN_57915</td>\n",
       "      <td>2017</td>\n",
       "      <td>2011</td>\n",
       "      <td>9</td>\n",
       "      <td>23</td>\n",
       "      <td>1957</td>\n",
       "      <td>15</td>\n",
       "      <td>64839</td>\n",
       "      <td>1461</td>\n",
       "      <td>0</td>\n",
       "      <td>1</td>\n",
       "      <td>0</td>\n",
       "      <td>0</td>\n",
       "      <td>0</td>\n",
       "      <td>116.87</td>\n",
       "    </tr>\n",
       "    <tr>\n",
       "      <th>57916</th>\n",
       "      <td>TRAIN_57916</td>\n",
       "      <td>2006</td>\n",
       "      <td>2005</td>\n",
       "      <td>12</td>\n",
       "      <td>142</td>\n",
       "      <td>2941</td>\n",
       "      <td>16</td>\n",
       "      <td>299850</td>\n",
       "      <td>1796</td>\n",
       "      <td>0</td>\n",
       "      <td>0</td>\n",
       "      <td>1</td>\n",
       "      <td>0</td>\n",
       "      <td>0</td>\n",
       "      <td>15.47</td>\n",
       "    </tr>\n",
       "    <tr>\n",
       "      <th>57917</th>\n",
       "      <td>TRAIN_57917</td>\n",
       "      <td>2013</td>\n",
       "      <td>2003</td>\n",
       "      <td>3</td>\n",
       "      <td>90</td>\n",
       "      <td>287</td>\n",
       "      <td>6</td>\n",
       "      <td>112000</td>\n",
       "      <td>1368</td>\n",
       "      <td>0</td>\n",
       "      <td>0</td>\n",
       "      <td>1</td>\n",
       "      <td>0</td>\n",
       "      <td>0</td>\n",
       "      <td>21.97</td>\n",
       "    </tr>\n",
       "    <tr>\n",
       "      <th>57918</th>\n",
       "      <td>TRAIN_57918</td>\n",
       "      <td>2006</td>\n",
       "      <td>2004</td>\n",
       "      <td>12</td>\n",
       "      <td>19</td>\n",
       "      <td>3174</td>\n",
       "      <td>0</td>\n",
       "      <td>189321</td>\n",
       "      <td>1598</td>\n",
       "      <td>0</td>\n",
       "      <td>0</td>\n",
       "      <td>1</td>\n",
       "      <td>0</td>\n",
       "      <td>0</td>\n",
       "      <td>16.77</td>\n",
       "    </tr>\n",
       "    <tr>\n",
       "      <th>57919</th>\n",
       "      <td>TRAIN_57919</td>\n",
       "      <td>2005</td>\n",
       "      <td>2004</td>\n",
       "      <td>1</td>\n",
       "      <td>103</td>\n",
       "      <td>553</td>\n",
       "      <td>12</td>\n",
       "      <td>144744</td>\n",
       "      <td>1596</td>\n",
       "      <td>0</td>\n",
       "      <td>0</td>\n",
       "      <td>1</td>\n",
       "      <td>0</td>\n",
       "      <td>0</td>\n",
       "      <td>19.50</td>\n",
       "    </tr>\n",
       "  </tbody>\n",
       "</table>\n",
       "<p>56698 rows × 15 columns</p>\n",
       "</div>"
      ],
      "text/plain": [
       "                ID  Year_prd  Year_model  Brand  Model  City  Area  Mileage  \\\n",
       "0      TRAIN_00000      2018        2014     16     47  1214    12    85231   \n",
       "1      TRAIN_00001      2010        2006     17     20  2137    13   135000   \n",
       "2      TRAIN_00002      2002        2002      9     36   785    15   255223   \n",
       "3      TRAIN_00003      2006        2001     11    133   546    15   238000   \n",
       "4      TRAIN_00004      2007        2007      3     25  1839     5   251000   \n",
       "...            ...       ...         ...    ...    ...   ...   ...      ...   \n",
       "57915  TRAIN_57915      2017        2011      9     23  1957    15    64839   \n",
       "57916  TRAIN_57916      2006        2005     12    142  2941    16   299850   \n",
       "57917  TRAIN_57917      2013        2003      3     90   287     6   112000   \n",
       "57918  TRAIN_57918      2006        2004     12     19  3174     0   189321   \n",
       "57919  TRAIN_57919      2005        2004      1    103   553    12   144744   \n",
       "\n",
       "         CC  Fuel_CNG  Fuel_Diesel  Fuel_Gasoline  Fuel_Hybrid  Fuel_LPG  \\\n",
       "0       999         0            0              1            0         0   \n",
       "1      1598         0            0              1            0         0   \n",
       "2      1796         0            0              1            0         0   \n",
       "3      2184         0            1              0            0         0   \n",
       "4      1910         0            1              0            0         0   \n",
       "...     ...       ...          ...            ...          ...       ...   \n",
       "57915  1461         0            1              0            0         0   \n",
       "57916  1796         0            0              1            0         0   \n",
       "57917  1368         0            0              1            0         0   \n",
       "57918  1598         0            0              1            0         0   \n",
       "57919  1596         0            0              1            0         0   \n",
       "\n",
       "        Price  \n",
       "0       51.74  \n",
       "1       41.47  \n",
       "2       17.81  \n",
       "3       18.20  \n",
       "4       17.55  \n",
       "...       ...  \n",
       "57915  116.87  \n",
       "57916   15.47  \n",
       "57917   21.97  \n",
       "57918   16.77  \n",
       "57919   19.50  \n",
       "\n",
       "[56698 rows x 15 columns]"
      ]
     },
     "execution_count": 39,
     "metadata": {},
     "output_type": "execute_result"
    }
   ],
   "source": [
    "import pickle\n",
    "\n",
    "\n",
    "## Load pickle\n",
    "with open(\"data.pickle\",\"rb\") as fr:\n",
    "    df = pickle.load(fr)\n",
    "df"
   ]
  },
  {
   "attachments": {},
   "cell_type": "markdown",
   "metadata": {},
   "source": [
    "전처리 _ X,Y 데이터셋 분할"
   ]
  },
  {
   "cell_type": "code",
   "execution_count": 40,
   "metadata": {},
   "outputs": [
    {
     "name": "stdout",
     "output_type": "stream",
     "text": [
      "   Year_prd  Brand  Model  Mileage    CC  Fuel_CNG  Fuel_Diesel  \\\n",
      "0      2018     16     47    85231   999         0            0   \n",
      "1      2010     17     20   135000  1598         0            0   \n",
      "2      2002      9     36   255223  1796         0            0   \n",
      "3      2006     11    133   238000  2184         0            1   \n",
      "4      2007      3     25   251000  1910         0            1   \n",
      "\n",
      "   Fuel_Gasoline  Fuel_Hybrid  Fuel_LPG  \n",
      "0              1            0         0  \n",
      "1              1            0         0  \n",
      "2              1            0         0  \n",
      "3              0            0         0  \n",
      "4              0            0         0  \n",
      "-------------------------------------\n",
      "0    51.74\n",
      "1    41.47\n",
      "2    17.81\n",
      "3    18.20\n",
      "4    17.55\n",
      "Name: Price, dtype: float64\n"
     ]
    }
   ],
   "source": [
    "def split_X_Y(data):\n",
    "\n",
    "    xData= data.drop(columns=['Price'])\n",
    "    yData= data['Price']\n",
    "\n",
    "    return xData , yData\n",
    "\n",
    "xData , yData = split_X_Y(df)\n",
    "\n",
    "# ID 열 제외\n",
    "xData = xData.drop(columns = ['ID'])\n",
    "\n",
    "# 상관계수 낮은 애들 제외\n",
    "dropList=['City','Area','Year_model']\n",
    "for x in dropList:\n",
    "    xData = xData.drop(columns=[x])\n",
    "\n",
    "print(xData[:5])\n",
    "print('-------------------------------------')\n",
    "print(yData[:5])\n",
    "\n"
   ]
  },
  {
   "cell_type": "code",
   "execution_count": 41,
   "metadata": {},
   "outputs": [],
   "source": [
    "# train / text 분리\n",
    "from sklearn.model_selection import train_test_split\n",
    "\n",
    "X_train, X_test, y_train, y_test = train_test_split(xData, yData, test_size=0.2, random_state=11)"
   ]
  },
  {
   "attachments": {},
   "cell_type": "markdown",
   "metadata": {},
   "source": [
    "Lasso"
   ]
  },
  {
   "cell_type": "code",
   "execution_count": 42,
   "metadata": {},
   "outputs": [],
   "source": [
    "from sklearn import metrics\n",
    "from sklearn.metrics import confusion_matrix\n",
    "from sklearn.metrics import accuracy_score, roc_auc_score, roc_curve\n",
    "from sklearn.linear_model import Ridge, Lasso, ElasticNet"
   ]
  },
  {
   "cell_type": "code",
   "execution_count": 43,
   "metadata": {},
   "outputs": [],
   "source": [
    "# Lasso 적합\n",
    "\n",
    "ll = Lasso(alpha = 1 ) # alpha = Lambda\n",
    "result = ll.fit(X_train,y_train)"
   ]
  },
  {
   "cell_type": "code",
   "execution_count": 44,
   "metadata": {},
   "outputs": [],
   "source": [
    "# 회귀계수 출력\n",
    "coeff = ll.coef_"
   ]
  },
  {
   "cell_type": "code",
   "execution_count": 45,
   "metadata": {},
   "outputs": [
    {
     "name": "stdout",
     "output_type": "stream",
     "text": [
      "훈련 세트의 정확도 : 0.73\n",
      "테스트 세트의 정확도 : 0.72\n",
      "사용한 특성의 수 : 5\n",
      "사용한 max_iter : 12\n"
     ]
    }
   ],
   "source": [
    "print(\"훈련 세트의 정확도 : {:.2f}\".format(ll.score(X_train, y_train)))\n",
    "\n",
    "print(\"테스트 세트의 정확도 : {:.2f}\".format(ll.score(X_test, y_test)))\n",
    "\n",
    "print(\"사용한 특성의 수 : {}\".format(np.sum(ll.coef_ != 0)))\n",
    "\n",
    "print(\"사용한 max_iter : {}\".format(ll.n_iter_))"
   ]
  },
  {
   "cell_type": "code",
   "execution_count": 14,
   "metadata": {},
   "outputs": [
    {
     "data": {
      "image/png": "[encoded data removed]",
      "text/plain": [
       "<Figure size 640x480 with 1 Axes>"
      ]
     },
     "metadata": {},
     "output_type": "display_data"
    }
   ],
   "source": [
    "import matplotlib.pyplot as plt\n",
    "import numpy as np\n",
    "\n",
    "# 라쏘 회귀 alpha 비교 => 1\n",
    "train_score, test_score = [], []\n",
    "\n",
    "a_list=[0.001,0.01,0.1,1,10,100]\n",
    "\n",
    "for a in a_list:\n",
    "    lls = Lasso(alpha=a, max_iter=10000)\n",
    "    lls.fit(X_train, y_train)\n",
    "    train_score.append(lls.score(X_train,y_train))\n",
    "    test_score.append(lls.score(X_test,y_test))\n",
    "\n",
    "plt.plot(np.log10(a_list),train_score)\n",
    "plt.plot(np.log10(a_list),test_score)\n",
    "\n",
    "plt.show()"
   ]
  },
  {
   "cell_type": "code",
   "execution_count": 46,
   "metadata": {},
   "outputs": [
    {
     "data": {
      "text/plain": [
       "Index(['Year_prd', 'Brand', 'Model', 'Mileage', 'CC'], dtype='object')"
      ]
     },
     "execution_count": 46,
     "metadata": {},
     "output_type": "execute_result"
    }
   ],
   "source": [
    "X_train.iloc[:,ll.coef_!=0].columns"
   ]
  },
  {
   "attachments": {},
   "cell_type": "markdown",
   "metadata": {},
   "source": [
    "예측"
   ]
  },
  {
   "cell_type": "code",
   "execution_count": 47,
   "metadata": {},
   "outputs": [],
   "source": [
    "lasso_y_hat = ll.predict(X_test)\n"
   ]
  },
  {
   "cell_type": "code",
   "execution_count": 48,
   "metadata": {},
   "outputs": [
    {
     "name": "stdout",
     "output_type": "stream",
     "text": [
      "R2 score: 0.72, MSE: 334.68, MAE: 13.59\n"
     ]
    }
   ],
   "source": [
    "from sklearn.metrics import r2_score,mean_absolute_error, mean_squared_error\n",
    "\n",
    "lasso_r2 = r2_score(y_test,lasso_y_hat)\n",
    "lasso_MSE = mean_squared_error(y_test,lasso_y_hat)\n",
    "lasso_MAE = mean_absolute_error(y_test,lasso_y_hat)\n",
    "\n",
    "print('R2 score: %.2f, MSE: %.2f, MAE: %.2f' %(lasso_r2, lasso_MSE, lasso_MAE))"
   ]
  },
  {
   "cell_type": "code",
   "execution_count": 37,
   "metadata": {},
   "outputs": [
    {
     "data": {
      "image/png": "[encoded data removed]",
      "text/plain": [
       "<Figure size 640x480 with 1 Axes>"
      ]
     },
     "metadata": {},
     "output_type": "display_data"
    }
   ],
   "source": [
    "fig = plt.figure()\n",
    "ax = fig.add_subplot(111)\n",
    "ax.plot(range(len(y_test)), y_test, '-', label=\"Original Y\")\n",
    "ax.plot(range(len(y_test)), lasso_y_hat, '-x', label=\"lasso_y_hat\")\n",
    "\n",
    "plt.legend(loc='upper right')\n",
    "plt.show()"
   ]
  },
  {
   "cell_type": "code",
   "execution_count": 49,
   "metadata": {},
   "outputs": [
    {
     "data": {
      "text/plain": [
       "Year_prd         5.1\n",
       "Model            0.1\n",
       "Mileage         -0.0\n",
       "CC               0.0\n",
       "Fuel_CNG        -0.0\n",
       "Fuel_Diesel      0.0\n",
       "Fuel_Gasoline   -0.0\n",
       "Fuel_Hybrid      0.0\n",
       "Fuel_LPG        -0.0\n",
       "Brand           -0.2\n",
       "dtype: float64"
      ]
     },
     "execution_count": 49,
     "metadata": {},
     "output_type": "execute_result"
    }
   ],
   "source": [
    "import pandas as pd\n",
    "\n",
    "# 변수 영향력 확인\n",
    "\n",
    "coeff = pd.Series(data=np.round(ll.coef_,1), index=xData.columns)\n",
    "\n",
    "coeff.sort_values(ascending=False)"
   ]
  },
  {
   "attachments": {},
   "cell_type": "markdown",
   "metadata": {},
   "source": [
    "오차행렬 -> 이진 일 때에만."
   ]
  },
  {
   "cell_type": "code",
   "execution_count": 62,
   "metadata": {},
   "outputs": [
    {
     "name": "stdout",
     "output_type": "stream",
     "text": [
      "30117    123.37\n",
      "22953     44.20\n",
      "15494     96.20\n",
      "32986     10.79\n",
      "31144     51.94\n",
      "          ...  \n",
      "42700     99.45\n",
      "33950     30.55\n",
      "45744     12.87\n",
      "10505     98.61\n",
      "47259     20.15\n",
      "Name: Price, Length: 11340, dtype: float64 [1 1 1 ... 1 1 1]\n"
     ]
    }
   ],
   "source": [
    "print(y_test, lasso_y_hat)"
   ]
  },
  {
   "cell_type": "code",
   "execution_count": 16,
   "metadata": {},
   "outputs": [
    {
     "ename": "ValueError",
     "evalue": "Classification metrics can't handle a mix of continuous and binary targets",
     "output_type": "error",
     "traceback": [
      "\u001b[1;31m---------------------------------------------------------------------------\u001b[0m",
      "\u001b[1;31mValueError\u001b[0m                                Traceback (most recent call last)",
      "Cell \u001b[1;32mIn[16], line 19\u001b[0m\n\u001b[0;32m     16\u001b[0m \t\u001b[39mreturn\u001b[39;00m acc\n\u001b[0;32m     18\u001b[0m lasso_y_hat \u001b[39m=\u001b[39m cut_off(lasso_y_hat, \u001b[39m0.5\u001b[39m)\n\u001b[1;32m---> 19\u001b[0m cfmat \u001b[39m=\u001b[39m confusion_matrix(y_test,lasso_y_hat)\n\u001b[0;32m     20\u001b[0m \u001b[39mprint\u001b[39m(acc(cfmat))\n",
      "File \u001b[1;32mc:\\Users\\user\\miniconda3\\envs\\py\\Lib\\site-packages\\sklearn\\metrics\\_classification.py:317\u001b[0m, in \u001b[0;36mconfusion_matrix\u001b[1;34m(y_true, y_pred, labels, sample_weight, normalize)\u001b[0m\n\u001b[0;32m    232\u001b[0m \u001b[39mdef\u001b[39;00m \u001b[39mconfusion_matrix\u001b[39m(\n\u001b[0;32m    233\u001b[0m     y_true, y_pred, \u001b[39m*\u001b[39m, labels\u001b[39m=\u001b[39m\u001b[39mNone\u001b[39;00m, sample_weight\u001b[39m=\u001b[39m\u001b[39mNone\u001b[39;00m, normalize\u001b[39m=\u001b[39m\u001b[39mNone\u001b[39;00m\n\u001b[0;32m    234\u001b[0m ):\n\u001b[0;32m    235\u001b[0m \u001b[39m    \u001b[39m\u001b[39m\"\"\"Compute confusion matrix to evaluate the accuracy of a classification.\u001b[39;00m\n\u001b[0;32m    236\u001b[0m \n\u001b[0;32m    237\u001b[0m \u001b[39m    By definition a confusion matrix :math:`C` is such that :math:`C_{i, j}`\u001b[39;00m\n\u001b[1;32m   (...)\u001b[0m\n\u001b[0;32m    315\u001b[0m \u001b[39m    (0, 2, 1, 1)\u001b[39;00m\n\u001b[0;32m    316\u001b[0m \u001b[39m    \"\"\"\u001b[39;00m\n\u001b[1;32m--> 317\u001b[0m     y_type, y_true, y_pred \u001b[39m=\u001b[39m _check_targets(y_true, y_pred)\n\u001b[0;32m    318\u001b[0m     \u001b[39mif\u001b[39;00m y_type \u001b[39mnot\u001b[39;00m \u001b[39min\u001b[39;00m (\u001b[39m\"\u001b[39m\u001b[39mbinary\u001b[39m\u001b[39m\"\u001b[39m, \u001b[39m\"\u001b[39m\u001b[39mmulticlass\u001b[39m\u001b[39m\"\u001b[39m):\n\u001b[0;32m    319\u001b[0m         \u001b[39mraise\u001b[39;00m \u001b[39mValueError\u001b[39;00m(\u001b[39m\"\u001b[39m\u001b[39m%s\u001b[39;00m\u001b[39m is not supported\u001b[39m\u001b[39m\"\u001b[39m \u001b[39m%\u001b[39m y_type)\n",
      "File \u001b[1;32mc:\\Users\\user\\miniconda3\\envs\\py\\Lib\\site-packages\\sklearn\\metrics\\_classification.py:95\u001b[0m, in \u001b[0;36m_check_targets\u001b[1;34m(y_true, y_pred)\u001b[0m\n\u001b[0;32m     92\u001b[0m     y_type \u001b[39m=\u001b[39m {\u001b[39m\"\u001b[39m\u001b[39mmulticlass\u001b[39m\u001b[39m\"\u001b[39m}\n\u001b[0;32m     94\u001b[0m \u001b[39mif\u001b[39;00m \u001b[39mlen\u001b[39m(y_type) \u001b[39m>\u001b[39m \u001b[39m1\u001b[39m:\n\u001b[1;32m---> 95\u001b[0m     \u001b[39mraise\u001b[39;00m \u001b[39mValueError\u001b[39;00m(\n\u001b[0;32m     96\u001b[0m         \u001b[39m\"\u001b[39m\u001b[39mClassification metrics can\u001b[39m\u001b[39m'\u001b[39m\u001b[39mt handle a mix of \u001b[39m\u001b[39m{0}\u001b[39;00m\u001b[39m and \u001b[39m\u001b[39m{1}\u001b[39;00m\u001b[39m targets\u001b[39m\u001b[39m\"\u001b[39m\u001b[39m.\u001b[39mformat(\n\u001b[0;32m     97\u001b[0m             type_true, type_pred\n\u001b[0;32m     98\u001b[0m         )\n\u001b[0;32m     99\u001b[0m     )\n\u001b[0;32m    101\u001b[0m \u001b[39m# We can't have more than one value on y_type => The set is no more needed\u001b[39;00m\n\u001b[0;32m    102\u001b[0m y_type \u001b[39m=\u001b[39m y_type\u001b[39m.\u001b[39mpop()\n",
      "\u001b[1;31mValueError\u001b[0m: Classification metrics can't handle a mix of continuous and binary targets"
     ]
    }
   ],
   "source": [
    "from sklearn.metrics import confusion_matrix\n",
    "from sklearn.metrics import accuracy_score, roc_auc_score, roc_curve\n",
    "\n",
    "# 0/1 cut-off(임계값) 함수\n",
    "\n",
    "def cut_off(y, threshold):\n",
    "\tY = y.copy()\n",
    "\tY[Y>threshold] = 1\n",
    "\tY[Y<=threshold] = 0\n",
    "\treturn (Y.astype(int))\n",
    "\n",
    "# 정확도 acc 함수 \n",
    "\n",
    "def acc(cfmat):\n",
    "\tacc = (cfmat[0,0] + cfmat[1,1]) / np.sum(cfmat)\n",
    "\treturn acc\n",
    "\n",
    "lasso_y_hat = cut_off(lasso_y_hat, 0.5)\n",
    "cfmat = confusion_matrix(y_test,lasso_y_hat)\n",
    "print(acc(cfmat))"
   ]
  }
 ],
 "metadata": {
  "kernelspec": {
   "display_name": "Python 3 (ipykernel)",
   "language": "python",
   "name": "python3"
  },
  "language_info": {
   "codemirror_mode": {
    "name": "ipython",
    "version": 3
   },
   "file_extension": ".py",
   "mimetype": "text/x-python",
   "name": "python",
   "nbconvert_exporter": "python",
   "pygments_lexer": "ipython3",
   "version": "3.11.3"
  }
 },
 "nbformat": 4,
 "nbformat_minor": 2
}
