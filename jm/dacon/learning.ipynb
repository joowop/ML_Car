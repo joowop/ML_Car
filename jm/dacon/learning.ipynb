{
 "cells": [
  {
   "attachments": {},
   "cell_type": "markdown",
   "metadata": {},
   "source": [
    "### DACON(데이콘) 데이콘 Basic 자동차 가격 예측 AI 경진대회"
   ]
  },
  {
   "attachments": {},
   "cell_type": "markdown",
   "metadata": {},
   "source": [
    "##### RandomForest 모델 학습"
   ]
  },
  {
   "cell_type": "code",
   "execution_count": 1,
   "metadata": {},
   "outputs": [],
   "source": [
    "import pandas as pd\n",
    "\n",
    "preprocess_X = pd.read_csv('preprocessed_data//preprocess_X_data.csv',index_col=0)\n",
    "preprocess_Y = pd.read_csv('preprocessed_data//preprocess_Y_data.csv',index_col=0) "
   ]
  },
  {
   "cell_type": "code",
   "execution_count": 2,
   "metadata": {},
   "outputs": [
    {
     "data": {
      "text/html": [
       "<div>\n",
       "<style scoped>\n",
       "    .dataframe tbody tr th:only-of-type {\n",
       "        vertical-align: middle;\n",
       "    }\n",
       "\n",
       "    .dataframe tbody tr th {\n",
       "        vertical-align: top;\n",
       "    }\n",
       "\n",
       "    .dataframe thead th {\n",
       "        text-align: right;\n",
       "    }\n",
       "</style>\n",
       "<table border=\"1\" class=\"dataframe\">\n",
       "  <thead>\n",
       "    <tr style=\"text-align: right;\">\n",
       "      <th></th>\n",
       "      <th>Year_prd</th>\n",
       "      <th>Year_model</th>\n",
       "      <th>Brand</th>\n",
       "      <th>Model</th>\n",
       "      <th>City</th>\n",
       "      <th>Area</th>\n",
       "      <th>Mileage</th>\n",
       "      <th>CC</th>\n",
       "      <th>Fuel_CNG</th>\n",
       "      <th>Fuel_Diesel</th>\n",
       "      <th>Fuel_Gasoline</th>\n",
       "      <th>Fuel_Hybrid</th>\n",
       "      <th>Fuel_LPG</th>\n",
       "    </tr>\n",
       "  </thead>\n",
       "  <tbody>\n",
       "    <tr>\n",
       "      <th>0</th>\n",
       "      <td>2018</td>\n",
       "      <td>2014</td>\n",
       "      <td>16</td>\n",
       "      <td>47</td>\n",
       "      <td>1214</td>\n",
       "      <td>12</td>\n",
       "      <td>85231</td>\n",
       "      <td>999</td>\n",
       "      <td>0</td>\n",
       "      <td>0</td>\n",
       "      <td>1</td>\n",
       "      <td>0</td>\n",
       "      <td>0</td>\n",
       "    </tr>\n",
       "    <tr>\n",
       "      <th>1</th>\n",
       "      <td>2010</td>\n",
       "      <td>2006</td>\n",
       "      <td>17</td>\n",
       "      <td>20</td>\n",
       "      <td>2137</td>\n",
       "      <td>13</td>\n",
       "      <td>135000</td>\n",
       "      <td>1598</td>\n",
       "      <td>0</td>\n",
       "      <td>0</td>\n",
       "      <td>1</td>\n",
       "      <td>0</td>\n",
       "      <td>0</td>\n",
       "    </tr>\n",
       "    <tr>\n",
       "      <th>2</th>\n",
       "      <td>2002</td>\n",
       "      <td>2002</td>\n",
       "      <td>9</td>\n",
       "      <td>36</td>\n",
       "      <td>785</td>\n",
       "      <td>15</td>\n",
       "      <td>255223</td>\n",
       "      <td>1796</td>\n",
       "      <td>0</td>\n",
       "      <td>0</td>\n",
       "      <td>1</td>\n",
       "      <td>0</td>\n",
       "      <td>0</td>\n",
       "    </tr>\n",
       "    <tr>\n",
       "      <th>3</th>\n",
       "      <td>2006</td>\n",
       "      <td>2001</td>\n",
       "      <td>11</td>\n",
       "      <td>133</td>\n",
       "      <td>546</td>\n",
       "      <td>15</td>\n",
       "      <td>238000</td>\n",
       "      <td>2184</td>\n",
       "      <td>0</td>\n",
       "      <td>1</td>\n",
       "      <td>0</td>\n",
       "      <td>0</td>\n",
       "      <td>0</td>\n",
       "    </tr>\n",
       "    <tr>\n",
       "      <th>4</th>\n",
       "      <td>2007</td>\n",
       "      <td>2007</td>\n",
       "      <td>3</td>\n",
       "      <td>25</td>\n",
       "      <td>1839</td>\n",
       "      <td>5</td>\n",
       "      <td>251000</td>\n",
       "      <td>1910</td>\n",
       "      <td>0</td>\n",
       "      <td>1</td>\n",
       "      <td>0</td>\n",
       "      <td>0</td>\n",
       "      <td>0</td>\n",
       "    </tr>\n",
       "    <tr>\n",
       "      <th>...</th>\n",
       "      <td>...</td>\n",
       "      <td>...</td>\n",
       "      <td>...</td>\n",
       "      <td>...</td>\n",
       "      <td>...</td>\n",
       "      <td>...</td>\n",
       "      <td>...</td>\n",
       "      <td>...</td>\n",
       "      <td>...</td>\n",
       "      <td>...</td>\n",
       "      <td>...</td>\n",
       "      <td>...</td>\n",
       "      <td>...</td>\n",
       "    </tr>\n",
       "    <tr>\n",
       "      <th>57915</th>\n",
       "      <td>2017</td>\n",
       "      <td>2011</td>\n",
       "      <td>9</td>\n",
       "      <td>23</td>\n",
       "      <td>1957</td>\n",
       "      <td>15</td>\n",
       "      <td>64839</td>\n",
       "      <td>1461</td>\n",
       "      <td>0</td>\n",
       "      <td>1</td>\n",
       "      <td>0</td>\n",
       "      <td>0</td>\n",
       "      <td>0</td>\n",
       "    </tr>\n",
       "    <tr>\n",
       "      <th>57916</th>\n",
       "      <td>2006</td>\n",
       "      <td>2005</td>\n",
       "      <td>12</td>\n",
       "      <td>142</td>\n",
       "      <td>2941</td>\n",
       "      <td>16</td>\n",
       "      <td>299850</td>\n",
       "      <td>1796</td>\n",
       "      <td>0</td>\n",
       "      <td>0</td>\n",
       "      <td>1</td>\n",
       "      <td>0</td>\n",
       "      <td>0</td>\n",
       "    </tr>\n",
       "    <tr>\n",
       "      <th>57917</th>\n",
       "      <td>2013</td>\n",
       "      <td>2003</td>\n",
       "      <td>3</td>\n",
       "      <td>90</td>\n",
       "      <td>287</td>\n",
       "      <td>6</td>\n",
       "      <td>112000</td>\n",
       "      <td>1368</td>\n",
       "      <td>0</td>\n",
       "      <td>0</td>\n",
       "      <td>1</td>\n",
       "      <td>0</td>\n",
       "      <td>0</td>\n",
       "    </tr>\n",
       "    <tr>\n",
       "      <th>57918</th>\n",
       "      <td>2006</td>\n",
       "      <td>2004</td>\n",
       "      <td>12</td>\n",
       "      <td>19</td>\n",
       "      <td>3174</td>\n",
       "      <td>0</td>\n",
       "      <td>189321</td>\n",
       "      <td>1598</td>\n",
       "      <td>0</td>\n",
       "      <td>0</td>\n",
       "      <td>1</td>\n",
       "      <td>0</td>\n",
       "      <td>0</td>\n",
       "    </tr>\n",
       "    <tr>\n",
       "      <th>57919</th>\n",
       "      <td>2005</td>\n",
       "      <td>2004</td>\n",
       "      <td>1</td>\n",
       "      <td>103</td>\n",
       "      <td>553</td>\n",
       "      <td>12</td>\n",
       "      <td>144744</td>\n",
       "      <td>1596</td>\n",
       "      <td>0</td>\n",
       "      <td>0</td>\n",
       "      <td>1</td>\n",
       "      <td>0</td>\n",
       "      <td>0</td>\n",
       "    </tr>\n",
       "  </tbody>\n",
       "</table>\n",
       "<p>56699 rows × 13 columns</p>\n",
       "</div>"
      ],
      "text/plain": [
       "       Year_prd  Year_model  Brand  Model  City  Area  Mileage    CC  \\\n",
       "0          2018        2014     16     47  1214    12    85231   999   \n",
       "1          2010        2006     17     20  2137    13   135000  1598   \n",
       "2          2002        2002      9     36   785    15   255223  1796   \n",
       "3          2006        2001     11    133   546    15   238000  2184   \n",
       "4          2007        2007      3     25  1839     5   251000  1910   \n",
       "...         ...         ...    ...    ...   ...   ...      ...   ...   \n",
       "57915      2017        2011      9     23  1957    15    64839  1461   \n",
       "57916      2006        2005     12    142  2941    16   299850  1796   \n",
       "57917      2013        2003      3     90   287     6   112000  1368   \n",
       "57918      2006        2004     12     19  3174     0   189321  1598   \n",
       "57919      2005        2004      1    103   553    12   144744  1596   \n",
       "\n",
       "       Fuel_CNG  Fuel_Diesel  Fuel_Gasoline  Fuel_Hybrid  Fuel_LPG  \n",
       "0             0            0              1            0         0  \n",
       "1             0            0              1            0         0  \n",
       "2             0            0              1            0         0  \n",
       "3             0            1              0            0         0  \n",
       "4             0            1              0            0         0  \n",
       "...         ...          ...            ...          ...       ...  \n",
       "57915         0            1              0            0         0  \n",
       "57916         0            0              1            0         0  \n",
       "57917         0            0              1            0         0  \n",
       "57918         0            0              1            0         0  \n",
       "57919         0            0              1            0         0  \n",
       "\n",
       "[56699 rows x 13 columns]"
      ]
     },
     "execution_count": 2,
     "metadata": {},
     "output_type": "execute_result"
    }
   ],
   "source": [
    "preprocess_X"
   ]
  },
  {
   "cell_type": "code",
   "execution_count": 3,
   "metadata": {},
   "outputs": [
    {
     "data": {
      "text/html": [
       "<div>\n",
       "<style scoped>\n",
       "    .dataframe tbody tr th:only-of-type {\n",
       "        vertical-align: middle;\n",
       "    }\n",
       "\n",
       "    .dataframe tbody tr th {\n",
       "        vertical-align: top;\n",
       "    }\n",
       "\n",
       "    .dataframe thead th {\n",
       "        text-align: right;\n",
       "    }\n",
       "</style>\n",
       "<table border=\"1\" class=\"dataframe\">\n",
       "  <thead>\n",
       "    <tr style=\"text-align: right;\">\n",
       "      <th></th>\n",
       "      <th>Price</th>\n",
       "    </tr>\n",
       "  </thead>\n",
       "  <tbody>\n",
       "    <tr>\n",
       "      <th>0</th>\n",
       "      <td>51.74</td>\n",
       "    </tr>\n",
       "    <tr>\n",
       "      <th>1</th>\n",
       "      <td>41.47</td>\n",
       "    </tr>\n",
       "    <tr>\n",
       "      <th>2</th>\n",
       "      <td>17.81</td>\n",
       "    </tr>\n",
       "    <tr>\n",
       "      <th>3</th>\n",
       "      <td>18.20</td>\n",
       "    </tr>\n",
       "    <tr>\n",
       "      <th>4</th>\n",
       "      <td>17.55</td>\n",
       "    </tr>\n",
       "    <tr>\n",
       "      <th>...</th>\n",
       "      <td>...</td>\n",
       "    </tr>\n",
       "    <tr>\n",
       "      <th>57915</th>\n",
       "      <td>116.87</td>\n",
       "    </tr>\n",
       "    <tr>\n",
       "      <th>57916</th>\n",
       "      <td>15.47</td>\n",
       "    </tr>\n",
       "    <tr>\n",
       "      <th>57917</th>\n",
       "      <td>21.97</td>\n",
       "    </tr>\n",
       "    <tr>\n",
       "      <th>57918</th>\n",
       "      <td>16.77</td>\n",
       "    </tr>\n",
       "    <tr>\n",
       "      <th>57919</th>\n",
       "      <td>19.50</td>\n",
       "    </tr>\n",
       "  </tbody>\n",
       "</table>\n",
       "<p>56699 rows × 1 columns</p>\n",
       "</div>"
      ],
      "text/plain": [
       "        Price\n",
       "0       51.74\n",
       "1       41.47\n",
       "2       17.81\n",
       "3       18.20\n",
       "4       17.55\n",
       "...       ...\n",
       "57915  116.87\n",
       "57916   15.47\n",
       "57917   21.97\n",
       "57918   16.77\n",
       "57919   19.50\n",
       "\n",
       "[56699 rows x 1 columns]"
      ]
     },
     "execution_count": 3,
     "metadata": {},
     "output_type": "execute_result"
    }
   ],
   "source": [
    "preprocess_Y"
   ]
  },
  {
   "attachments": {},
   "cell_type": "markdown",
   "metadata": {},
   "source": [
    "##### Train / Test 데이터 분할"
   ]
  },
  {
   "cell_type": "code",
   "execution_count": 4,
   "metadata": {},
   "outputs": [],
   "source": [
    "from sklearn.model_selection import train_test_split\n",
    "\n",
    "X_train, X_test , y_train , y_test = train_test_split(preprocess_X,preprocess_Y,test_size=0.2,random_state=777)"
   ]
  },
  {
   "cell_type": "code",
   "execution_count": 5,
   "metadata": {},
   "outputs": [
    {
     "data": {
      "text/plain": [
       "((45359, 13), (45359, 1))"
      ]
     },
     "execution_count": 5,
     "metadata": {},
     "output_type": "execute_result"
    }
   ],
   "source": [
    "X_train.shape , y_train.shape"
   ]
  },
  {
   "cell_type": "code",
   "execution_count": 6,
   "metadata": {},
   "outputs": [
    {
     "data": {
      "text/plain": [
       "((11340, 13), (11340, 1))"
      ]
     },
     "execution_count": 6,
     "metadata": {},
     "output_type": "execute_result"
    }
   ],
   "source": [
    "X_test.shape , y_test.shape"
   ]
  },
  {
   "attachments": {},
   "cell_type": "markdown",
   "metadata": {},
   "source": [
    "##### 모델 학습"
   ]
  },
  {
   "cell_type": "code",
   "execution_count": 7,
   "metadata": {},
   "outputs": [
    {
     "name": "stderr",
     "output_type": "stream",
     "text": [
      "C:\\Users\\user\\AppData\\Local\\Temp\\ipykernel_16672\\4211305117.py:5: DataConversionWarning: A column-vector y was passed when a 1d array was expected. Please change the shape of y to (n_samples,), for example using ravel().\n",
      "  rfr.fit(X_train,y_train)\n"
     ]
    }
   ],
   "source": [
    "from sklearn.ensemble import RandomForestRegressor\n",
    "\n",
    "rfr = RandomForestRegressor(random_state=777)\n",
    "\n",
    "rfr.fit(X_train,y_train)\n",
    "y_pred = rfr.predict(X_test)"
   ]
  },
  {
   "attachments": {},
   "cell_type": "markdown",
   "metadata": {},
   "source": [
    "##### 평가지표 : MAE, MSE, RMSE, MAPE"
   ]
  },
  {
   "cell_type": "code",
   "execution_count": 8,
   "metadata": {},
   "outputs": [
    {
     "data": {
      "text/plain": [
       "6.106829515348115"
      ]
     },
     "execution_count": 8,
     "metadata": {},
     "output_type": "execute_result"
    }
   ],
   "source": [
    "# 실제 정답 값과 예측 값의 차이를 절댓값으로 변환한 뒤 합산하여 평균을 구한다.\n",
    "# 특이값이 많은 경우에 주로 사용된다.\n",
    "# 값이 낮을수록 좋다.\n",
    "\n",
    "#장점\n",
    "#직관점임\n",
    "#정답 및 예측 값과 같은 단위를 가짐\n",
    "\n",
    "#단점\n",
    "#실제 정답보다 낮게 예측했는지, 높게 했는지를 파악하기 힘듦\n",
    "#스케일 의존적임(scal dependency): 모델마다 에류 크기가 동일해도 에러율은 동일하지 않음\n",
    "\n",
    "from sklearn.metrics import mean_absolute_error\n",
    "\n",
    "mae = mean_absolute_error(y_test,y_pred)\n",
    "mae"
   ]
  },
  {
   "cell_type": "code",
   "execution_count": 9,
   "metadata": {},
   "outputs": [
    {
     "data": {
      "text/plain": [
       "87.97187399251244"
      ]
     },
     "execution_count": 9,
     "metadata": {},
     "output_type": "execute_result"
    }
   ],
   "source": [
    "# MSE(Mean Squared Error) = 평균 제곱 오차\n",
    "# 실제 정답 값과 예측 값의 차이를 제곱한 뒤 평균을 구한다.\n",
    "# 값이 낮을수록 좋다.\n",
    "\n",
    "# 장점\n",
    "# 직관적임\n",
    "\n",
    "# 단점\n",
    "# 제곱하기 때문에 1미만의 에러는 작아지고, 그 이상의 에러는 커짐\n",
    "# 실제 정답보다 낮게 예측했는지, 높게 했는지를 파악하기 힘듦\n",
    "# 스케일 의존적임(scal dependency): 모델마다 에류 크기가 동일해도 에러율은 동일하지 않음\n",
    "\n",
    "from sklearn.metrics import mean_squared_error\n",
    "\n",
    "mse = mean_squared_error(y_test,y_pred)\n",
    "mse"
   ]
  },
  {
   "cell_type": "code",
   "execution_count": 10,
   "metadata": {},
   "outputs": [
    {
     "data": {
      "text/plain": [
       "9.379332278606642"
      ]
     },
     "execution_count": 10,
     "metadata": {},
     "output_type": "execute_result"
    }
   ],
   "source": [
    "# RMSE(Root Mean Squared Error) = 평균 제곱근 오차\n",
    "# MSE에 루트는 씌워서 에러를 제곱해서 생기는 값의 왜곡이 줄어든다.\n",
    "\n",
    "# 값이 낮을수록 좋다.\n",
    "\n",
    "# 장점\n",
    "# 직관적임\n",
    "\n",
    "# 단점\n",
    "# 제곱하기 때문에 1미만의 에러는 작아지고, 그 이상의 에러는 커짐\n",
    "# 실제 정답보다 낮게 예측했는지, 높게 했는지를 파악하기 힘듦\n",
    "# 스케일 의존적임(scal dependency): 모델마다 에류 크기가 동일해도 에러율은 동일하지 않음\n",
    "\n",
    "\n",
    "from sklearn.metrics import mean_squared_error\n",
    "import numpy as np\n",
    "\n",
    "rmse = np.sqrt(mean_squared_error(y_test,y_pred))\n",
    "rmse"
   ]
  },
  {
   "cell_type": "code",
   "execution_count": 11,
   "metadata": {},
   "outputs": [
    {
     "data": {
      "text/plain": [
       "0.927483642569507"
      ]
     },
     "execution_count": 11,
     "metadata": {},
     "output_type": "execute_result"
    }
   ],
   "source": [
    "# R2 score = R squard\n",
    "# 다른 지표(MAE, MSE, RMSE)들은 모델마다 값이 다르기 때문에 절대 값만 보고 선능을 판단하기 어렵다.\n",
    "# R2 score는 상대적인 성능을 나타내기 비교가 쉽다.\n",
    "# 실제 값의 분산 대비 예측값의 분산 비율을 의미한다.\n",
    "# 1에 가까울 수록 좋다.\n",
    "\n",
    "from sklearn.metrics import r2_score\n",
    "\n",
    "r2 = r2_score(y_test,y_pred)\n",
    "r2"
   ]
  },
  {
   "cell_type": "code",
   "execution_count": 12,
   "metadata": {},
   "outputs": [
    {
     "name": "stdout",
     "output_type": "stream",
     "text": [
      "mae :  6.106829515348115\n",
      "mse :  87.97187399251244\n",
      "rmse :  9.379332278606642\n",
      "r2 :  0.927483642569507\n"
     ]
    }
   ],
   "source": [
    "def regression_eval(y_test,y_pred):\n",
    "\n",
    "    from sklearn.metrics import mean_absolute_error,mean_squared_error,r2_score\n",
    "\n",
    "    mae = mean_absolute_error(y_test,y_pred)\n",
    "    mse = mean_squared_error(y_test,y_pred)\n",
    "    rmse = np.sqrt(mean_squared_error(y_test,y_pred))\n",
    "    r2 = r2_score(y_test,y_pred)\n",
    "\n",
    "    print(\"mae : \", mae)\n",
    "    print(\"mse : \", mse)\n",
    "    print(\"rmse : \", rmse)\n",
    "    print(\"r2 : \", r2)\n",
    "\n",
    "\n",
    "    return mae , mse , rmse , r2\n",
    "\n",
    "\n",
    "mae , mse , rmse , r2 = regression_eval(y_test,y_pred)"
   ]
  },
  {
   "cell_type": "code",
   "execution_count": 13,
   "metadata": {},
   "outputs": [
    {
     "data": {
      "text/plain": [
       "{'CV': '-',\n",
       " 'Mae': 6.106829515348115,\n",
       " 'Mse': 87.97187399251244,\n",
       " 'Rmse': 9.379332278606642,\n",
       " 'R2': 0.927483642569507}"
      ]
     },
     "execution_count": 13,
     "metadata": {},
     "output_type": "execute_result"
    }
   ],
   "source": [
    "evals = {'CV':'-','Mae':mae,'Mse':mse,'Rmse':rmse,'R2':r2}\n",
    "evals"
   ]
  },
  {
   "attachments": {},
   "cell_type": "markdown",
   "metadata": {},
   "source": [
    "##### Feature Importances (피처중요도)"
   ]
  },
  {
   "cell_type": "code",
   "execution_count": 14,
   "metadata": {},
   "outputs": [
    {
     "data": {
      "text/plain": [
       "(array([6.19476683e-01, 3.50057974e-02, 2.82633987e-02, 4.46460428e-02,\n",
       "        1.69810714e-02, 1.12258390e-02, 4.93160971e-02, 1.86032351e-01,\n",
       "        2.01726476e-05, 3.10700405e-03, 5.00161779e-03, 4.92273409e-04,\n",
       "        4.31652107e-04]),\n",
       " Index(['Year_prd', 'Year_model', 'Brand', 'Model', 'City', 'Area', 'Mileage',\n",
       "        'CC', 'Fuel_CNG', 'Fuel_Diesel', 'Fuel_Gasoline', 'Fuel_Hybrid',\n",
       "        'Fuel_LPG'],\n",
       "       dtype='object'))"
      ]
     },
     "execution_count": 14,
     "metadata": {},
     "output_type": "execute_result"
    }
   ],
   "source": [
    "rfr.feature_importances_ , preprocess_X.columns"
   ]
  },
  {
   "cell_type": "code",
   "execution_count": 15,
   "metadata": {},
   "outputs": [
    {
     "data": {
      "text/html": [
       "<div>\n",
       "<style scoped>\n",
       "    .dataframe tbody tr th:only-of-type {\n",
       "        vertical-align: middle;\n",
       "    }\n",
       "\n",
       "    .dataframe tbody tr th {\n",
       "        vertical-align: top;\n",
       "    }\n",
       "\n",
       "    .dataframe thead th {\n",
       "        text-align: right;\n",
       "    }\n",
       "</style>\n",
       "<table border=\"1\" class=\"dataframe\">\n",
       "  <thead>\n",
       "    <tr style=\"text-align: right;\">\n",
       "      <th></th>\n",
       "      <th>Features</th>\n",
       "      <th>Importances</th>\n",
       "    </tr>\n",
       "  </thead>\n",
       "  <tbody>\n",
       "    <tr>\n",
       "      <th>0</th>\n",
       "      <td>Year_prd</td>\n",
       "      <td>0.619477</td>\n",
       "    </tr>\n",
       "    <tr>\n",
       "      <th>1</th>\n",
       "      <td>Year_model</td>\n",
       "      <td>0.035006</td>\n",
       "    </tr>\n",
       "    <tr>\n",
       "      <th>2</th>\n",
       "      <td>Brand</td>\n",
       "      <td>0.028263</td>\n",
       "    </tr>\n",
       "    <tr>\n",
       "      <th>3</th>\n",
       "      <td>Model</td>\n",
       "      <td>0.044646</td>\n",
       "    </tr>\n",
       "    <tr>\n",
       "      <th>4</th>\n",
       "      <td>City</td>\n",
       "      <td>0.016981</td>\n",
       "    </tr>\n",
       "    <tr>\n",
       "      <th>5</th>\n",
       "      <td>Area</td>\n",
       "      <td>0.011226</td>\n",
       "    </tr>\n",
       "    <tr>\n",
       "      <th>6</th>\n",
       "      <td>Mileage</td>\n",
       "      <td>0.049316</td>\n",
       "    </tr>\n",
       "    <tr>\n",
       "      <th>7</th>\n",
       "      <td>CC</td>\n",
       "      <td>0.186032</td>\n",
       "    </tr>\n",
       "    <tr>\n",
       "      <th>8</th>\n",
       "      <td>Fuel_CNG</td>\n",
       "      <td>0.000020</td>\n",
       "    </tr>\n",
       "    <tr>\n",
       "      <th>9</th>\n",
       "      <td>Fuel_Diesel</td>\n",
       "      <td>0.003107</td>\n",
       "    </tr>\n",
       "    <tr>\n",
       "      <th>10</th>\n",
       "      <td>Fuel_Gasoline</td>\n",
       "      <td>0.005002</td>\n",
       "    </tr>\n",
       "    <tr>\n",
       "      <th>11</th>\n",
       "      <td>Fuel_Hybrid</td>\n",
       "      <td>0.000492</td>\n",
       "    </tr>\n",
       "    <tr>\n",
       "      <th>12</th>\n",
       "      <td>Fuel_LPG</td>\n",
       "      <td>0.000432</td>\n",
       "    </tr>\n",
       "  </tbody>\n",
       "</table>\n",
       "</div>"
      ],
      "text/plain": [
       "         Features  Importances\n",
       "0        Year_prd     0.619477\n",
       "1      Year_model     0.035006\n",
       "2           Brand     0.028263\n",
       "3           Model     0.044646\n",
       "4            City     0.016981\n",
       "5            Area     0.011226\n",
       "6         Mileage     0.049316\n",
       "7              CC     0.186032\n",
       "8        Fuel_CNG     0.000020\n",
       "9     Fuel_Diesel     0.003107\n",
       "10  Fuel_Gasoline     0.005002\n",
       "11    Fuel_Hybrid     0.000492\n",
       "12       Fuel_LPG     0.000432"
      ]
     },
     "execution_count": 15,
     "metadata": {},
     "output_type": "execute_result"
    }
   ],
   "source": [
    "df_feature_importances = pd.DataFrame({'Features':preprocess_X.columns,'Importances':rfr.feature_importances_})\n",
    "df_feature_importances"
   ]
  },
  {
   "cell_type": "code",
   "execution_count": 16,
   "metadata": {},
   "outputs": [],
   "source": [
    "df_feature_importances = df_feature_importances.sort_values('Importances',ascending=False)"
   ]
  },
  {
   "cell_type": "code",
   "execution_count": 17,
   "metadata": {},
   "outputs": [
    {
     "data": {
      "text/plain": [
       "<Axes: xlabel='Importances', ylabel='Features'>"
      ]
     },
     "execution_count": 17,
     "metadata": {},
     "output_type": "execute_result"
    },
    {
     "data": {
      "image/png": "[encoded data removed]",
      "text/plain": [
       "<Figure size 640x480 with 1 Axes>"
      ]
     },
     "metadata": {},
     "output_type": "display_data"
    }
   ],
   "source": [
    "import seaborn as sns\n",
    "\n",
    "sns.barplot(x='Importances',y='Features',data=df_feature_importances)"
   ]
  },
  {
   "attachments": {},
   "cell_type": "markdown",
   "metadata": {},
   "source": [
    "##### K-FOLD 교차 검증 학습 "
   ]
  },
  {
   "cell_type": "code",
   "execution_count": 18,
   "metadata": {},
   "outputs": [],
   "source": [
    "import pandas as pd\n",
    "\n",
    "preprocess_X = pd.read_csv('preprocessed_data//preprocess_X_data.csv',index_col=0)\n",
    "preprocess_Y = pd.read_csv('preprocessed_data//preprocess_Y_data.csv',index_col=0) "
   ]
  },
  {
   "cell_type": "code",
   "execution_count": 19,
   "metadata": {},
   "outputs": [
    {
     "name": "stdout",
     "output_type": "stream",
     "text": [
      "1번째 fold\n"
     ]
    },
    {
     "name": "stderr",
     "output_type": "stream",
     "text": [
      "C:\\Users\\user\\AppData\\Local\\Temp\\ipykernel_16672\\590911768.py:23: DataConversionWarning: A column-vector y was passed when a 1d array was expected. Please change the shape of y to (n_samples,), for example using ravel().\n",
      "  rfr.fit(X_train, y_train)\n"
     ]
    },
    {
     "name": "stdout",
     "output_type": "stream",
     "text": [
      "mae :  6.343393655496766\n",
      "mse :  100.5305728725529\n",
      "rmse :  10.026493548222772\n",
      "r2 :  0.9162255084014297\n",
      "2번째 fold\n"
     ]
    },
    {
     "name": "stderr",
     "output_type": "stream",
     "text": [
      "C:\\Users\\user\\AppData\\Local\\Temp\\ipykernel_16672\\590911768.py:23: DataConversionWarning: A column-vector y was passed when a 1d array was expected. Please change the shape of y to (n_samples,), for example using ravel().\n",
      "  rfr.fit(X_train, y_train)\n"
     ]
    },
    {
     "name": "stdout",
     "output_type": "stream",
     "text": [
      "mae :  6.098661558117073\n",
      "mse :  90.26975372106796\n",
      "rmse :  9.501039612645974\n",
      "r2 :  0.9247484170741176\n",
      "3번째 fold\n"
     ]
    },
    {
     "name": "stderr",
     "output_type": "stream",
     "text": [
      "C:\\Users\\user\\AppData\\Local\\Temp\\ipykernel_16672\\590911768.py:23: DataConversionWarning: A column-vector y was passed when a 1d array was expected. Please change the shape of y to (n_samples,), for example using ravel().\n",
      "  rfr.fit(X_train, y_train)\n"
     ]
    },
    {
     "name": "stdout",
     "output_type": "stream",
     "text": [
      "mae :  6.192179251490719\n",
      "mse :  91.42426142317173\n",
      "rmse :  9.561603496441991\n",
      "r2 :  0.9239497297236114\n",
      "4번째 fold\n"
     ]
    },
    {
     "name": "stderr",
     "output_type": "stream",
     "text": [
      "C:\\Users\\user\\AppData\\Local\\Temp\\ipykernel_16672\\590911768.py:23: DataConversionWarning: A column-vector y was passed when a 1d array was expected. Please change the shape of y to (n_samples,), for example using ravel().\n",
      "  rfr.fit(X_train, y_train)\n"
     ]
    },
    {
     "name": "stdout",
     "output_type": "stream",
     "text": [
      "mae :  6.095766648945998\n",
      "mse :  88.75170624999183\n",
      "rmse :  9.420812398619974\n",
      "r2 :  0.9244480036078465\n",
      "5번째 fold\n"
     ]
    },
    {
     "name": "stderr",
     "output_type": "stream",
     "text": [
      "C:\\Users\\user\\AppData\\Local\\Temp\\ipykernel_16672\\590911768.py:23: DataConversionWarning: A column-vector y was passed when a 1d array was expected. Please change the shape of y to (n_samples,), for example using ravel().\n",
      "  rfr.fit(X_train, y_train)\n"
     ]
    },
    {
     "name": "stdout",
     "output_type": "stream",
     "text": [
      "mae :  6.1826165090144\n",
      "mse :  90.86922669759679\n",
      "rmse :  9.532535166344617\n",
      "r2 :  0.9231707438541896\n",
      "평균  Mae  :  6.182523524612991\n",
      "평균  Mse  :  92.36910419287624\n",
      "평균  Rmse  :  9.608496844455065\n",
      "평균  R2  :  0.9225084805322389\n"
     ]
    }
   ],
   "source": [
    "from sklearn.model_selection import KFold\n",
    "\n",
    "def exec_kfold(preprocess_X,preprocess_Y,folds=5):\n",
    "\n",
    "    from sklearn.ensemble import RandomForestRegressor\n",
    "    import numpy as np\n",
    "\n",
    "    rfr = RandomForestRegressor(random_state=777)\n",
    "\n",
    "    kfold = KFold(n_splits=folds)\n",
    "    evals = dict({'Mae':[],'Mse':[],'Rmse':[],'R2':[]})\n",
    "    mean_evals = dict({'Mae':[],'Mse':[],'Rmse':[],'R2':[]})\n",
    "    \n",
    "    # KFold 교차 검증 수행\n",
    "    for iter_count , (train_index, test_index) in enumerate(kfold.split(preprocess_X)):\n",
    "\n",
    "        print(str(iter_count+1) + \"번째 fold\")\n",
    "        # X_titanic_df 데이터에서 교차 검증별로 학습과 검증 데이터를 가리키는 index 생성\n",
    "        X_train, X_test = preprocess_X.values[train_index], preprocess_X.values[test_index]\n",
    "        y_train, y_test = preprocess_Y.values[train_index], preprocess_Y.values[test_index]\n",
    "        \n",
    "        # 회귀 모델 학습, 예측 \n",
    "        rfr.fit(X_train, y_train) \n",
    "        y_pred = rfr.predict(X_test)\n",
    "\n",
    "        # mae, mse, rmse, r2 \n",
    "        mae , mse , rmse , r2 = regression_eval(y_test,y_pred)\n",
    "\n",
    "        evals['Mae'].append(mae)\n",
    "        evals['Mse'].append(mse)\n",
    "        evals['Rmse'].append(rmse)\n",
    "        evals['R2'].append(r2)\n",
    "\n",
    "    mean_evals['CV'] = 'KFOLD = ' + str(folds) +'(mean)'\n",
    "    for key in evals.keys():\n",
    "        print(\"평균 \",key, \" : \", np.mean(evals[key]))\n",
    "        # mean_evals['Mean_'+key] = np.mean(evals[key])\n",
    "        mean_evals[key] = np.mean(evals[key])\n",
    "\n",
    "    return mean_evals\n",
    "\n",
    "# exec_kfold 호출\n",
    "mean_evals = exec_kfold(preprocess_X,preprocess_Y,folds=5) "
   ]
  },
  {
   "attachments": {},
   "cell_type": "markdown",
   "metadata": {},
   "source": [
    "##### No Cross Validation vs Cross Validation 평가 지표 비교"
   ]
  },
  {
   "cell_type": "code",
   "execution_count": 20,
   "metadata": {},
   "outputs": [
    {
     "data": {
      "text/html": [
       "<div>\n",
       "<style scoped>\n",
       "    .dataframe tbody tr th:only-of-type {\n",
       "        vertical-align: middle;\n",
       "    }\n",
       "\n",
       "    .dataframe tbody tr th {\n",
       "        vertical-align: top;\n",
       "    }\n",
       "\n",
       "    .dataframe thead th {\n",
       "        text-align: right;\n",
       "    }\n",
       "</style>\n",
       "<table border=\"1\" class=\"dataframe\">\n",
       "  <thead>\n",
       "    <tr style=\"text-align: right;\">\n",
       "      <th></th>\n",
       "      <th>CV</th>\n",
       "      <th>Mae</th>\n",
       "      <th>Mse</th>\n",
       "      <th>Rmse</th>\n",
       "      <th>R2</th>\n",
       "    </tr>\n",
       "  </thead>\n",
       "  <tbody>\n",
       "    <tr>\n",
       "      <th>0</th>\n",
       "      <td>-</td>\n",
       "      <td>6.10683</td>\n",
       "      <td>87.971874</td>\n",
       "      <td>9.379332</td>\n",
       "      <td>0.927484</td>\n",
       "    </tr>\n",
       "  </tbody>\n",
       "</table>\n",
       "</div>"
      ],
      "text/plain": [
       "  CV      Mae        Mse      Rmse        R2\n",
       "0  -  6.10683  87.971874  9.379332  0.927484"
      ]
     },
     "execution_count": 20,
     "metadata": {},
     "output_type": "execute_result"
    }
   ],
   "source": [
    "import pandas as pd\n",
    "\n",
    "df_evals = pd.DataFrame(evals,index=[0])\n",
    "df_evals"
   ]
  },
  {
   "cell_type": "code",
   "execution_count": 21,
   "metadata": {},
   "outputs": [
    {
     "data": {
      "text/html": [
       "<div>\n",
       "<style scoped>\n",
       "    .dataframe tbody tr th:only-of-type {\n",
       "        vertical-align: middle;\n",
       "    }\n",
       "\n",
       "    .dataframe tbody tr th {\n",
       "        vertical-align: top;\n",
       "    }\n",
       "\n",
       "    .dataframe thead th {\n",
       "        text-align: right;\n",
       "    }\n",
       "</style>\n",
       "<table border=\"1\" class=\"dataframe\">\n",
       "  <thead>\n",
       "    <tr style=\"text-align: right;\">\n",
       "      <th></th>\n",
       "      <th>CV</th>\n",
       "      <th>Mae</th>\n",
       "      <th>Mse</th>\n",
       "      <th>Rmse</th>\n",
       "      <th>R2</th>\n",
       "    </tr>\n",
       "  </thead>\n",
       "  <tbody>\n",
       "    <tr>\n",
       "      <th>0</th>\n",
       "      <td>KFOLD = 5(mean)</td>\n",
       "      <td>6.182524</td>\n",
       "      <td>92.369104</td>\n",
       "      <td>9.608497</td>\n",
       "      <td>0.922508</td>\n",
       "    </tr>\n",
       "  </tbody>\n",
       "</table>\n",
       "</div>"
      ],
      "text/plain": [
       "                CV       Mae        Mse      Rmse        R2\n",
       "0  KFOLD = 5(mean)  6.182524  92.369104  9.608497  0.922508"
      ]
     },
     "execution_count": 21,
     "metadata": {},
     "output_type": "execute_result"
    }
   ],
   "source": [
    "df_mean_evals= pd.DataFrame(mean_evals,index=[0])\n",
    "df_mean_evals = df_mean_evals[['CV','Mae','Mse','Rmse','R2']]\n",
    "df_mean_evals"
   ]
  },
  {
   "attachments": {},
   "cell_type": "markdown",
   "metadata": {},
   "source": [
    "##### GridSearchcv 하이퍼 파라미터 조정"
   ]
  },
  {
   "cell_type": "code",
   "execution_count": 22,
   "metadata": {},
   "outputs": [
    {
     "name": "stdout",
     "output_type": "stream",
     "text": [
      "GridSearchCV 최적 하이퍼 파라미터 : {'bootstrap': False, 'max_features': 'sqrt', 'min_samples_split': 8, 'n_estimators': 30}\n",
      "GridSearchCV 최고 정확도: -6.2178\n",
      "테스트 세트에서의 RandomForestRegressor mae :  6.068731807060273\n",
      "GridSearchCV 최적 하이퍼 파라미터 : {'bootstrap': False, 'max_features': 'sqrt', 'min_samples_split': 8, 'n_estimators': 30}\n",
      "GridSearchCV 최고 정확도: -92.5806\n",
      "테스트 세트에서의 RandomForestRegressor mse :  86.19052557377059\n",
      "GridSearchCV 최적 하이퍼 파라미터 : {'bootstrap': False, 'max_features': 'sqrt', 'min_samples_split': 8, 'n_estimators': 30}\n",
      "GridSearchCV 최고 정확도: -9.6213\n",
      "테스트 세트에서의 RandomForestRegressor rmse :  9.283885262850387\n",
      "GridSearchCV 최적 하이퍼 파라미터 : {'bootstrap': False, 'max_features': 'sqrt', 'min_samples_split': 8, 'n_estimators': 30}\n",
      "GridSearchCV 최고 정확도: 0.9220\n",
      "테스트 세트에서의 RandomForestRegressor r2 :  0.9289520311894053\n",
      "GridSearchcv 소요시간 :  1847.8474280834198\n"
     ]
    }
   ],
   "source": [
    "from sklearn.model_selection import GridSearchCV\n",
    "from sklearn.ensemble import RandomForestRegressor\n",
    "from sklearn.model_selection import train_test_split\n",
    "from sklearn.metrics import mean_absolute_error,mean_squared_error,r2_score\n",
    "import numpy as np\n",
    "import time\n",
    "import warnings\n",
    "\n",
    "\n",
    "warnings.filterwarnings(action='ignore')\n",
    "\n",
    "rfr = RandomForestRegressor(random_state=777)\n",
    "\n",
    "preprocess_X = pd.read_csv('preprocessed_data//preprocess_X_data.csv',index_col=0)\n",
    "preprocess_Y = pd.read_csv('preprocessed_data//preprocess_Y_data.csv',index_col=0) \n",
    "\n",
    "X_train, X_test , y_train , y_test = train_test_split(preprocess_X,preprocess_Y,test_size=0.2,random_state=777)\n",
    "\n",
    "scorings = ['neg_mean_absolute_error','neg_mean_squared_error','neg_root_mean_squared_error','r2']\n",
    "param_grid = { \n",
    "        \"n_estimators\"      : [10,20,30],\n",
    "        \"max_features\"      : [\"auto\", \"sqrt\", \"log2\"],\n",
    "        \"min_samples_split\" : [2,4,8],\n",
    "        \"bootstrap\": [True, False],\n",
    "        }\n",
    "\n",
    "start = time.time()\n",
    "\n",
    "for scoring in scorings:\n",
    "\n",
    "    grid_rfr = GridSearchCV(rfr, param_grid=param_grid , scoring=scoring, cv=5)\n",
    "    grid_rfr.fit(X_train , y_train)\n",
    "\n",
    "    print('GridSearchCV 최적 하이퍼 파라미터 :',grid_rfr.best_params_)\n",
    "    print('GridSearchCV 최고 정확도: {0:.4f}'.format(grid_rfr.best_score_))\n",
    "    best_dclf = grid_rfr.best_estimator_\n",
    "\n",
    "    # GridSearchCV의 최적 하이퍼 파라미터로 학습된 Estimator로 예측 및 평가 수행. \n",
    "    y_pred = best_dclf.predict(X_test)\n",
    "\n",
    "    if scoring == 'neg_mean_absolute_error':\n",
    "        mae = mean_absolute_error(y_test , y_pred)\n",
    "        print('테스트 세트에서의 RandomForestRegressor mae : ', mae)\n",
    "    elif scoring == 'neg_mean_squared_error':\n",
    "        mse = mean_squared_error(y_test , y_pred)\n",
    "        print('테스트 세트에서의 RandomForestRegressor mse : ', mse)\n",
    "    elif scoring == 'neg_root_mean_squared_error':\n",
    "        rmse = np.sqrt(mean_squared_error(y_test , y_pred))\n",
    "        print('테스트 세트에서의 RandomForestRegressor rmse : ', rmse)\n",
    "    else:\n",
    "        r2 = r2_score(y_test , y_pred)\n",
    "        print('테스트 세트에서의 RandomForestRegressor r2 : ', r2)\n",
    "\n",
    "print(\"GridSearchcv 소요시간 : \", time.time()-start)"
   ]
  }
 ],
 "metadata": {
  "kernelspec": {
   "display_name": "py",
   "language": "python",
   "name": "python3"
  },
  "language_info": {
   "codemirror_mode": {
    "name": "ipython",
    "version": 3
   },
   "file_extension": ".py",
   "mimetype": "text/x-python",
   "name": "python",
   "nbconvert_exporter": "python",
   "pygments_lexer": "ipython3",
   "version": "3.11.3"
  },
  "orig_nbformat": 4
 },
 "nbformat": 4,
 "nbformat_minor": 2
}
