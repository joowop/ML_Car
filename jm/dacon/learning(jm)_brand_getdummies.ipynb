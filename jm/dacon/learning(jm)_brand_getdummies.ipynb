{
 "cells": [
  {
   "attachments": {},
   "cell_type": "markdown",
   "metadata": {},
   "source": [
    "### DACON(데이콘) 데이콘 Basic 자동차 가격 예측 AI 경진대회"
   ]
  },
  {
   "attachments": {},
   "cell_type": "markdown",
   "metadata": {},
   "source": [
    "### 브랜드만 get_dummies 학습"
   ]
  },
  {
   "attachments": {},
   "cell_type": "markdown",
   "metadata": {},
   "source": [
    "##### RandomForest 모델 학습"
   ]
  },
  {
   "cell_type": "code",
   "execution_count": 1,
   "metadata": {},
   "outputs": [],
   "source": [
    "# https://injo.tistory.com/30\n",
    "# 랜덤 포레스트는 여러 개의 결정트리(Decision Tree)를 활용한 배깅 방식의 대표적인 알고리즘\n",
    "# 배깅 방식 : 배깅(Bagging)은 Bootstrap Aggregating의 약자로, 보팅(Voting)과는 달리 동일한 \n",
    "# 알고리즘으로 여러 분류기를 만들어 보팅으로 최종 결정하는 알고리즘"
   ]
  },
  {
   "cell_type": "code",
   "execution_count": 3,
   "metadata": {},
   "outputs": [],
   "source": [
    "import pandas as pd\n",
    "\n",
    "preprocess_data_dir = 'preprocessed_data'\n",
    "\n",
    "brand_getdummies_preprocess_X_data = pd.read_csv(preprocess_data_dir+'/brand_getdummies_preprocess_X_data.csv',index_col=0)\n",
    "brand_getdummies_preprocess_Y_data = pd.read_csv(preprocess_data_dir+'/brand_getdummies_preprocess_Y_data.csv',index_col=0)"
   ]
  },
  {
   "cell_type": "code",
   "execution_count": 4,
   "metadata": {},
   "outputs": [
    {
     "data": {
      "text/html": [
       "<div>\n",
       "<style scoped>\n",
       "    .dataframe tbody tr th:only-of-type {\n",
       "        vertical-align: middle;\n",
       "    }\n",
       "\n",
       "    .dataframe tbody tr th {\n",
       "        vertical-align: top;\n",
       "    }\n",
       "\n",
       "    .dataframe thead th {\n",
       "        text-align: right;\n",
       "    }\n",
       "</style>\n",
       "<table border=\"1\" class=\"dataframe\">\n",
       "  <thead>\n",
       "    <tr style=\"text-align: right;\">\n",
       "      <th></th>\n",
       "      <th>Year_prd</th>\n",
       "      <th>Year_model</th>\n",
       "      <th>Model</th>\n",
       "      <th>Mileage</th>\n",
       "      <th>CC</th>\n",
       "      <th>Fuel</th>\n",
       "      <th>Brand_audi</th>\n",
       "      <th>Brand_bmw</th>\n",
       "      <th>Brand_citroen</th>\n",
       "      <th>Brand_fiat</th>\n",
       "      <th>...</th>\n",
       "      <th>Brand_mitsubishi</th>\n",
       "      <th>Brand_nissan</th>\n",
       "      <th>Brand_opel</th>\n",
       "      <th>Brand_peugeot</th>\n",
       "      <th>Brand_renault</th>\n",
       "      <th>Brand_seat</th>\n",
       "      <th>Brand_skoda</th>\n",
       "      <th>Brand_toyota</th>\n",
       "      <th>Brand_volkswagen</th>\n",
       "      <th>Brand_volvo</th>\n",
       "    </tr>\n",
       "  </thead>\n",
       "  <tbody>\n",
       "    <tr>\n",
       "      <th>0</th>\n",
       "      <td>2018</td>\n",
       "      <td>2014</td>\n",
       "      <td>47</td>\n",
       "      <td>85231</td>\n",
       "      <td>999</td>\n",
       "      <td>2</td>\n",
       "      <td>False</td>\n",
       "      <td>False</td>\n",
       "      <td>False</td>\n",
       "      <td>False</td>\n",
       "      <td>...</td>\n",
       "      <td>False</td>\n",
       "      <td>False</td>\n",
       "      <td>False</td>\n",
       "      <td>False</td>\n",
       "      <td>False</td>\n",
       "      <td>False</td>\n",
       "      <td>True</td>\n",
       "      <td>False</td>\n",
       "      <td>False</td>\n",
       "      <td>False</td>\n",
       "    </tr>\n",
       "    <tr>\n",
       "      <th>1</th>\n",
       "      <td>2010</td>\n",
       "      <td>2006</td>\n",
       "      <td>20</td>\n",
       "      <td>135000</td>\n",
       "      <td>1598</td>\n",
       "      <td>2</td>\n",
       "      <td>False</td>\n",
       "      <td>False</td>\n",
       "      <td>False</td>\n",
       "      <td>False</td>\n",
       "      <td>...</td>\n",
       "      <td>False</td>\n",
       "      <td>False</td>\n",
       "      <td>False</td>\n",
       "      <td>False</td>\n",
       "      <td>False</td>\n",
       "      <td>False</td>\n",
       "      <td>False</td>\n",
       "      <td>True</td>\n",
       "      <td>False</td>\n",
       "      <td>False</td>\n",
       "    </tr>\n",
       "    <tr>\n",
       "      <th>2</th>\n",
       "      <td>2002</td>\n",
       "      <td>2002</td>\n",
       "      <td>36</td>\n",
       "      <td>255223</td>\n",
       "      <td>1796</td>\n",
       "      <td>2</td>\n",
       "      <td>False</td>\n",
       "      <td>False</td>\n",
       "      <td>False</td>\n",
       "      <td>False</td>\n",
       "      <td>...</td>\n",
       "      <td>False</td>\n",
       "      <td>False</td>\n",
       "      <td>False</td>\n",
       "      <td>False</td>\n",
       "      <td>False</td>\n",
       "      <td>False</td>\n",
       "      <td>False</td>\n",
       "      <td>False</td>\n",
       "      <td>False</td>\n",
       "      <td>False</td>\n",
       "    </tr>\n",
       "    <tr>\n",
       "      <th>3</th>\n",
       "      <td>2006</td>\n",
       "      <td>2001</td>\n",
       "      <td>133</td>\n",
       "      <td>238000</td>\n",
       "      <td>2184</td>\n",
       "      <td>1</td>\n",
       "      <td>False</td>\n",
       "      <td>False</td>\n",
       "      <td>False</td>\n",
       "      <td>False</td>\n",
       "      <td>...</td>\n",
       "      <td>False</td>\n",
       "      <td>True</td>\n",
       "      <td>False</td>\n",
       "      <td>False</td>\n",
       "      <td>False</td>\n",
       "      <td>False</td>\n",
       "      <td>False</td>\n",
       "      <td>False</td>\n",
       "      <td>False</td>\n",
       "      <td>False</td>\n",
       "    </tr>\n",
       "    <tr>\n",
       "      <th>4</th>\n",
       "      <td>2007</td>\n",
       "      <td>2007</td>\n",
       "      <td>25</td>\n",
       "      <td>251000</td>\n",
       "      <td>1910</td>\n",
       "      <td>1</td>\n",
       "      <td>False</td>\n",
       "      <td>False</td>\n",
       "      <td>False</td>\n",
       "      <td>True</td>\n",
       "      <td>...</td>\n",
       "      <td>False</td>\n",
       "      <td>False</td>\n",
       "      <td>False</td>\n",
       "      <td>False</td>\n",
       "      <td>False</td>\n",
       "      <td>False</td>\n",
       "      <td>False</td>\n",
       "      <td>False</td>\n",
       "      <td>False</td>\n",
       "      <td>False</td>\n",
       "    </tr>\n",
       "    <tr>\n",
       "      <th>...</th>\n",
       "      <td>...</td>\n",
       "      <td>...</td>\n",
       "      <td>...</td>\n",
       "      <td>...</td>\n",
       "      <td>...</td>\n",
       "      <td>...</td>\n",
       "      <td>...</td>\n",
       "      <td>...</td>\n",
       "      <td>...</td>\n",
       "      <td>...</td>\n",
       "      <td>...</td>\n",
       "      <td>...</td>\n",
       "      <td>...</td>\n",
       "      <td>...</td>\n",
       "      <td>...</td>\n",
       "      <td>...</td>\n",
       "      <td>...</td>\n",
       "      <td>...</td>\n",
       "      <td>...</td>\n",
       "      <td>...</td>\n",
       "      <td>...</td>\n",
       "    </tr>\n",
       "    <tr>\n",
       "      <th>57915</th>\n",
       "      <td>2017</td>\n",
       "      <td>2011</td>\n",
       "      <td>23</td>\n",
       "      <td>64839</td>\n",
       "      <td>1461</td>\n",
       "      <td>1</td>\n",
       "      <td>False</td>\n",
       "      <td>False</td>\n",
       "      <td>False</td>\n",
       "      <td>False</td>\n",
       "      <td>...</td>\n",
       "      <td>False</td>\n",
       "      <td>False</td>\n",
       "      <td>False</td>\n",
       "      <td>False</td>\n",
       "      <td>False</td>\n",
       "      <td>False</td>\n",
       "      <td>False</td>\n",
       "      <td>False</td>\n",
       "      <td>False</td>\n",
       "      <td>False</td>\n",
       "    </tr>\n",
       "    <tr>\n",
       "      <th>57916</th>\n",
       "      <td>2006</td>\n",
       "      <td>2005</td>\n",
       "      <td>142</td>\n",
       "      <td>299850</td>\n",
       "      <td>1796</td>\n",
       "      <td>2</td>\n",
       "      <td>False</td>\n",
       "      <td>False</td>\n",
       "      <td>False</td>\n",
       "      <td>False</td>\n",
       "      <td>...</td>\n",
       "      <td>False</td>\n",
       "      <td>False</td>\n",
       "      <td>True</td>\n",
       "      <td>False</td>\n",
       "      <td>False</td>\n",
       "      <td>False</td>\n",
       "      <td>False</td>\n",
       "      <td>False</td>\n",
       "      <td>False</td>\n",
       "      <td>False</td>\n",
       "    </tr>\n",
       "    <tr>\n",
       "      <th>57917</th>\n",
       "      <td>2013</td>\n",
       "      <td>2003</td>\n",
       "      <td>90</td>\n",
       "      <td>112000</td>\n",
       "      <td>1368</td>\n",
       "      <td>2</td>\n",
       "      <td>False</td>\n",
       "      <td>False</td>\n",
       "      <td>False</td>\n",
       "      <td>True</td>\n",
       "      <td>...</td>\n",
       "      <td>False</td>\n",
       "      <td>False</td>\n",
       "      <td>False</td>\n",
       "      <td>False</td>\n",
       "      <td>False</td>\n",
       "      <td>False</td>\n",
       "      <td>False</td>\n",
       "      <td>False</td>\n",
       "      <td>False</td>\n",
       "      <td>False</td>\n",
       "    </tr>\n",
       "    <tr>\n",
       "      <th>57918</th>\n",
       "      <td>2006</td>\n",
       "      <td>2004</td>\n",
       "      <td>19</td>\n",
       "      <td>189321</td>\n",
       "      <td>1598</td>\n",
       "      <td>2</td>\n",
       "      <td>False</td>\n",
       "      <td>False</td>\n",
       "      <td>False</td>\n",
       "      <td>False</td>\n",
       "      <td>...</td>\n",
       "      <td>False</td>\n",
       "      <td>False</td>\n",
       "      <td>True</td>\n",
       "      <td>False</td>\n",
       "      <td>False</td>\n",
       "      <td>False</td>\n",
       "      <td>False</td>\n",
       "      <td>False</td>\n",
       "      <td>False</td>\n",
       "      <td>False</td>\n",
       "    </tr>\n",
       "    <tr>\n",
       "      <th>57919</th>\n",
       "      <td>2005</td>\n",
       "      <td>2004</td>\n",
       "      <td>103</td>\n",
       "      <td>144744</td>\n",
       "      <td>1596</td>\n",
       "      <td>2</td>\n",
       "      <td>False</td>\n",
       "      <td>True</td>\n",
       "      <td>False</td>\n",
       "      <td>False</td>\n",
       "      <td>...</td>\n",
       "      <td>False</td>\n",
       "      <td>False</td>\n",
       "      <td>False</td>\n",
       "      <td>False</td>\n",
       "      <td>False</td>\n",
       "      <td>False</td>\n",
       "      <td>False</td>\n",
       "      <td>False</td>\n",
       "      <td>False</td>\n",
       "      <td>False</td>\n",
       "    </tr>\n",
       "  </tbody>\n",
       "</table>\n",
       "<p>56698 rows × 26 columns</p>\n",
       "</div>"
      ],
      "text/plain": [
       "       Year_prd  Year_model  Model  Mileage    CC  Fuel  Brand_audi  \\\n",
       "0          2018        2014     47    85231   999     2       False   \n",
       "1          2010        2006     20   135000  1598     2       False   \n",
       "2          2002        2002     36   255223  1796     2       False   \n",
       "3          2006        2001    133   238000  2184     1       False   \n",
       "4          2007        2007     25   251000  1910     1       False   \n",
       "...         ...         ...    ...      ...   ...   ...         ...   \n",
       "57915      2017        2011     23    64839  1461     1       False   \n",
       "57916      2006        2005    142   299850  1796     2       False   \n",
       "57917      2013        2003     90   112000  1368     2       False   \n",
       "57918      2006        2004     19   189321  1598     2       False   \n",
       "57919      2005        2004    103   144744  1596     2       False   \n",
       "\n",
       "       Brand_bmw  Brand_citroen  Brand_fiat  ...  Brand_mitsubishi  \\\n",
       "0          False          False       False  ...             False   \n",
       "1          False          False       False  ...             False   \n",
       "2          False          False       False  ...             False   \n",
       "3          False          False       False  ...             False   \n",
       "4          False          False        True  ...             False   \n",
       "...          ...            ...         ...  ...               ...   \n",
       "57915      False          False       False  ...             False   \n",
       "57916      False          False       False  ...             False   \n",
       "57917      False          False        True  ...             False   \n",
       "57918      False          False       False  ...             False   \n",
       "57919       True          False       False  ...             False   \n",
       "\n",
       "       Brand_nissan  Brand_opel  Brand_peugeot  Brand_renault  Brand_seat  \\\n",
       "0             False       False          False          False       False   \n",
       "1             False       False          False          False       False   \n",
       "2             False       False          False          False       False   \n",
       "3              True       False          False          False       False   \n",
       "4             False       False          False          False       False   \n",
       "...             ...         ...            ...            ...         ...   \n",
       "57915         False       False          False          False       False   \n",
       "57916         False        True          False          False       False   \n",
       "57917         False       False          False          False       False   \n",
       "57918         False        True          False          False       False   \n",
       "57919         False       False          False          False       False   \n",
       "\n",
       "       Brand_skoda  Brand_toyota  Brand_volkswagen  Brand_volvo  \n",
       "0             True         False             False        False  \n",
       "1            False          True             False        False  \n",
       "2            False         False             False        False  \n",
       "3            False         False             False        False  \n",
       "4            False         False             False        False  \n",
       "...            ...           ...               ...          ...  \n",
       "57915        False         False             False        False  \n",
       "57916        False         False             False        False  \n",
       "57917        False         False             False        False  \n",
       "57918        False         False             False        False  \n",
       "57919        False         False             False        False  \n",
       "\n",
       "[56698 rows x 26 columns]"
      ]
     },
     "execution_count": 4,
     "metadata": {},
     "output_type": "execute_result"
    }
   ],
   "source": [
    "brand_getdummies_preprocess_X_data "
   ]
  },
  {
   "cell_type": "code",
   "execution_count": 5,
   "metadata": {},
   "outputs": [
    {
     "data": {
      "text/html": [
       "<div>\n",
       "<style scoped>\n",
       "    .dataframe tbody tr th:only-of-type {\n",
       "        vertical-align: middle;\n",
       "    }\n",
       "\n",
       "    .dataframe tbody tr th {\n",
       "        vertical-align: top;\n",
       "    }\n",
       "\n",
       "    .dataframe thead th {\n",
       "        text-align: right;\n",
       "    }\n",
       "</style>\n",
       "<table border=\"1\" class=\"dataframe\">\n",
       "  <thead>\n",
       "    <tr style=\"text-align: right;\">\n",
       "      <th></th>\n",
       "      <th>Price</th>\n",
       "    </tr>\n",
       "  </thead>\n",
       "  <tbody>\n",
       "    <tr>\n",
       "      <th>0</th>\n",
       "      <td>51.74</td>\n",
       "    </tr>\n",
       "    <tr>\n",
       "      <th>1</th>\n",
       "      <td>41.47</td>\n",
       "    </tr>\n",
       "    <tr>\n",
       "      <th>2</th>\n",
       "      <td>17.81</td>\n",
       "    </tr>\n",
       "    <tr>\n",
       "      <th>3</th>\n",
       "      <td>18.20</td>\n",
       "    </tr>\n",
       "    <tr>\n",
       "      <th>4</th>\n",
       "      <td>17.55</td>\n",
       "    </tr>\n",
       "    <tr>\n",
       "      <th>...</th>\n",
       "      <td>...</td>\n",
       "    </tr>\n",
       "    <tr>\n",
       "      <th>57915</th>\n",
       "      <td>116.87</td>\n",
       "    </tr>\n",
       "    <tr>\n",
       "      <th>57916</th>\n",
       "      <td>15.47</td>\n",
       "    </tr>\n",
       "    <tr>\n",
       "      <th>57917</th>\n",
       "      <td>21.97</td>\n",
       "    </tr>\n",
       "    <tr>\n",
       "      <th>57918</th>\n",
       "      <td>16.77</td>\n",
       "    </tr>\n",
       "    <tr>\n",
       "      <th>57919</th>\n",
       "      <td>19.50</td>\n",
       "    </tr>\n",
       "  </tbody>\n",
       "</table>\n",
       "<p>56698 rows × 1 columns</p>\n",
       "</div>"
      ],
      "text/plain": [
       "        Price\n",
       "0       51.74\n",
       "1       41.47\n",
       "2       17.81\n",
       "3       18.20\n",
       "4       17.55\n",
       "...       ...\n",
       "57915  116.87\n",
       "57916   15.47\n",
       "57917   21.97\n",
       "57918   16.77\n",
       "57919   19.50\n",
       "\n",
       "[56698 rows x 1 columns]"
      ]
     },
     "execution_count": 5,
     "metadata": {},
     "output_type": "execute_result"
    }
   ],
   "source": [
    "brand_getdummies_preprocess_Y_data "
   ]
  },
  {
   "attachments": {},
   "cell_type": "markdown",
   "metadata": {},
   "source": [
    "##### Train / Test 데이터 분할"
   ]
  },
  {
   "cell_type": "code",
   "execution_count": 6,
   "metadata": {},
   "outputs": [],
   "source": [
    "from sklearn.model_selection import train_test_split\n",
    "\n",
    "X_train, X_test , y_train , y_test = train_test_split(brand_getdummies_preprocess_X_data ,brand_getdummies_preprocess_Y_data ,test_size=0.2,random_state=777)"
   ]
  },
  {
   "cell_type": "code",
   "execution_count": 7,
   "metadata": {},
   "outputs": [
    {
     "data": {
      "text/plain": [
       "((45358, 26), (45358, 1))"
      ]
     },
     "execution_count": 7,
     "metadata": {},
     "output_type": "execute_result"
    }
   ],
   "source": [
    "X_train.shape , y_train.shape"
   ]
  },
  {
   "cell_type": "code",
   "execution_count": 8,
   "metadata": {},
   "outputs": [
    {
     "data": {
      "text/plain": [
       "((11340, 26), (11340, 1))"
      ]
     },
     "execution_count": 8,
     "metadata": {},
     "output_type": "execute_result"
    }
   ],
   "source": [
    "X_test.shape , y_test.shape"
   ]
  },
  {
   "attachments": {},
   "cell_type": "markdown",
   "metadata": {},
   "source": [
    "##### 모델 학습"
   ]
  },
  {
   "cell_type": "code",
   "execution_count": 9,
   "metadata": {},
   "outputs": [
    {
     "name": "stderr",
     "output_type": "stream",
     "text": [
      "C:\\Users\\user\\AppData\\Local\\Temp\\ipykernel_10508\\4211305117.py:5: DataConversionWarning: A column-vector y was passed when a 1d array was expected. Please change the shape of y to (n_samples,), for example using ravel().\n",
      "  rfr.fit(X_train,y_train)\n"
     ]
    }
   ],
   "source": [
    "from sklearn.ensemble import RandomForestRegressor\n",
    "\n",
    "rfr = RandomForestRegressor(random_state=777)\n",
    "\n",
    "rfr.fit(X_train,y_train)\n",
    "y_pred = rfr.predict(X_test)"
   ]
  },
  {
   "attachments": {},
   "cell_type": "markdown",
   "metadata": {},
   "source": [
    "##### 평가지표 : MAE, MSE, RMSE, MAPE"
   ]
  },
  {
   "cell_type": "code",
   "execution_count": 10,
   "metadata": {},
   "outputs": [
    {
     "data": {
      "text/plain": [
       "6.292026404062036"
      ]
     },
     "execution_count": 10,
     "metadata": {},
     "output_type": "execute_result"
    }
   ],
   "source": [
    "# 실제 정답 값과 예측 값의 차이를 절댓값으로 변환한 뒤 합산하여 평균을 구한다.\n",
    "# 특이값이 많은 경우에 주로 사용된다.\n",
    "# 값이 낮을수록 좋다.\n",
    "\n",
    "#장점\n",
    "#직관점임\n",
    "#정답 및 예측 값과 같은 단위를 가짐\n",
    "\n",
    "#단점\n",
    "#실제 정답보다 낮게 예측했는지, 높게 했는지를 파악하기 힘듦\n",
    "#스케일 의존적임(scal dependency): 모델마다 에류 크기가 동일해도 에러율은 동일하지 않음\n",
    "\n",
    "from sklearn.metrics import mean_absolute_error\n",
    "\n",
    "mae = mean_absolute_error(y_test,y_pred)\n",
    "mae"
   ]
  },
  {
   "cell_type": "code",
   "execution_count": 11,
   "metadata": {},
   "outputs": [
    {
     "data": {
      "text/plain": [
       "94.87573013572276"
      ]
     },
     "execution_count": 11,
     "metadata": {},
     "output_type": "execute_result"
    }
   ],
   "source": [
    "# MSE(Mean Squared Error) = 평균 제곱 오차\n",
    "# 실제 정답 값과 예측 값의 차이를 제곱한 뒤 평균을 구한다.\n",
    "# 값이 낮을수록 좋다.\n",
    "\n",
    "# 장점\n",
    "# 직관적임\n",
    "\n",
    "# 단점\n",
    "# 제곱하기 때문에 1미만의 에러는 작아지고, 그 이상의 에러는 커짐\n",
    "# 실제 정답보다 낮게 예측했는지, 높게 했는지를 파악하기 힘듦\n",
    "# 스케일 의존적임(scal dependency): 모델마다 에류 크기가 동일해도 에러율은 동일하지 않음\n",
    "\n",
    "from sklearn.metrics import mean_squared_error\n",
    "\n",
    "mse = mean_squared_error(y_test,y_pred)\n",
    "mse"
   ]
  },
  {
   "cell_type": "code",
   "execution_count": 12,
   "metadata": {},
   "outputs": [
    {
     "data": {
      "text/plain": [
       "9.740417349155157"
      ]
     },
     "execution_count": 12,
     "metadata": {},
     "output_type": "execute_result"
    }
   ],
   "source": [
    "# RMSE(Root Mean Squared Error) = 평균 제곱근 오차\n",
    "# MSE에 루트는 씌워서 에러를 제곱해서 생기는 값의 왜곡이 줄어든다.\n",
    "\n",
    "# 값이 낮을수록 좋다.\n",
    "\n",
    "# 장점\n",
    "# 직관적임\n",
    "\n",
    "# 단점\n",
    "# 제곱하기 때문에 1미만의 에러는 작아지고, 그 이상의 에러는 커짐\n",
    "# 실제 정답보다 낮게 예측했는지, 높게 했는지를 파악하기 힘듦\n",
    "# 스케일 의존적임(scal dependency): 모델마다 에류 크기가 동일해도 에러율은 동일하지 않음\n",
    "\n",
    "\n",
    "from sklearn.metrics import mean_squared_error\n",
    "import numpy as np\n",
    "\n",
    "rmse = np.sqrt(mean_squared_error(y_test,y_pred))\n",
    "rmse"
   ]
  },
  {
   "cell_type": "code",
   "execution_count": 13,
   "metadata": {},
   "outputs": [
    {
     "data": {
      "text/plain": [
       "0.9215884342044964"
      ]
     },
     "execution_count": 13,
     "metadata": {},
     "output_type": "execute_result"
    }
   ],
   "source": [
    "# R2 score = R squard\n",
    "# 다른 지표(MAE, MSE, RMSE)들은 모델마다 값이 다르기 때문에 절대 값만 보고 선능을 판단하기 어렵다.\n",
    "# R2 score는 상대적인 성능을 나타내기 비교가 쉽다.\n",
    "# 실제 값의 분산 대비 예측값의 분산 비율을 의미한다.\n",
    "# 1에 가까울 수록 좋다.\n",
    "\n",
    "from sklearn.metrics import r2_score\n",
    "\n",
    "r2 = r2_score(y_test,y_pred)\n",
    "r2"
   ]
  },
  {
   "cell_type": "code",
   "execution_count": 14,
   "metadata": {},
   "outputs": [
    {
     "name": "stdout",
     "output_type": "stream",
     "text": [
      "mae :  6.292026404062036\n",
      "mse :  94.87573013572276\n",
      "rmse :  9.740417349155157\n",
      "r2 :  0.9215884342044964\n"
     ]
    }
   ],
   "source": [
    "def regression_eval(y_test,y_pred):\n",
    "\n",
    "    from sklearn.metrics import mean_absolute_error,mean_squared_error,r2_score\n",
    "\n",
    "    mae = mean_absolute_error(y_test,y_pred)\n",
    "    mse = mean_squared_error(y_test,y_pred)\n",
    "    rmse = np.sqrt(mean_squared_error(y_test,y_pred))\n",
    "    r2 = r2_score(y_test,y_pred)\n",
    "\n",
    "    print(\"mae : \", mae)\n",
    "    print(\"mse : \", mse)\n",
    "    print(\"rmse : \", rmse)\n",
    "    print(\"r2 : \", r2)\n",
    "\n",
    "\n",
    "    return mae , mse , rmse , r2\n",
    "\n",
    "\n",
    "mae , mse , rmse , r2 = regression_eval(y_test,y_pred)"
   ]
  },
  {
   "cell_type": "code",
   "execution_count": 15,
   "metadata": {},
   "outputs": [
    {
     "data": {
      "text/plain": [
       "{'CV': '-',\n",
       " 'Mae': 6.292026404062036,\n",
       " 'Mse': 94.87573013572276,\n",
       " 'Rmse': 9.740417349155157,\n",
       " 'R2': 0.9215884342044964}"
      ]
     },
     "execution_count": 15,
     "metadata": {},
     "output_type": "execute_result"
    }
   ],
   "source": [
    "evals = {'CV':'-','Mae':mae,'Mse':mse,'Rmse':rmse,'R2':r2}\n",
    "evals"
   ]
  },
  {
   "attachments": {},
   "cell_type": "markdown",
   "metadata": {},
   "source": [
    "##### Feature Importances (피처중요도)"
   ]
  },
  {
   "cell_type": "code",
   "execution_count": 17,
   "metadata": {},
   "outputs": [
    {
     "data": {
      "text/plain": [
       "(array([6.22481947e-01, 3.43445191e-02, 4.21648236e-02, 6.76577118e-02,\n",
       "        1.83926130e-01, 7.46945057e-03, 8.48402659e-03, 1.14807925e-03,\n",
       "        4.94381756e-04, 1.47225586e-03, 2.01778316e-03, 1.94914762e-03,\n",
       "        9.09283003e-04, 8.57525232e-04, 4.19774753e-04, 5.21124537e-03,\n",
       "        3.55482187e-04, 4.19705688e-03, 3.57163823e-03, 1.07290033e-03,\n",
       "        1.89508039e-03, 6.98507593e-04, 6.97291927e-04, 2.52269140e-03,\n",
       "        2.90066955e-03, 1.08059710e-03]),\n",
       " Index(['Year_prd', 'Year_model', 'Model', 'Mileage', 'CC', 'Fuel',\n",
       "        'Brand_audi', 'Brand_bmw', 'Brand_citroen', 'Brand_fiat', 'Brand_ford',\n",
       "        'Brand_honda', 'Brand_hyundai', 'Brand_kia', 'Brand_mazda',\n",
       "        'Brand_mercedes-benz', 'Brand_mitsubishi', 'Brand_nissan', 'Brand_opel',\n",
       "        'Brand_peugeot', 'Brand_renault', 'Brand_seat', 'Brand_skoda',\n",
       "        'Brand_toyota', 'Brand_volkswagen', 'Brand_volvo'],\n",
       "       dtype='object'))"
      ]
     },
     "execution_count": 17,
     "metadata": {},
     "output_type": "execute_result"
    }
   ],
   "source": [
    "rfr.feature_importances_ , brand_getdummies_preprocess_X_data .columns"
   ]
  },
  {
   "cell_type": "code",
   "execution_count": 18,
   "metadata": {},
   "outputs": [
    {
     "data": {
      "text/html": [
       "<div>\n",
       "<style scoped>\n",
       "    .dataframe tbody tr th:only-of-type {\n",
       "        vertical-align: middle;\n",
       "    }\n",
       "\n",
       "    .dataframe tbody tr th {\n",
       "        vertical-align: top;\n",
       "    }\n",
       "\n",
       "    .dataframe thead th {\n",
       "        text-align: right;\n",
       "    }\n",
       "</style>\n",
       "<table border=\"1\" class=\"dataframe\">\n",
       "  <thead>\n",
       "    <tr style=\"text-align: right;\">\n",
       "      <th></th>\n",
       "      <th>Features</th>\n",
       "      <th>Importances</th>\n",
       "    </tr>\n",
       "  </thead>\n",
       "  <tbody>\n",
       "    <tr>\n",
       "      <th>0</th>\n",
       "      <td>Year_prd</td>\n",
       "      <td>0.622482</td>\n",
       "    </tr>\n",
       "    <tr>\n",
       "      <th>1</th>\n",
       "      <td>Year_model</td>\n",
       "      <td>0.034345</td>\n",
       "    </tr>\n",
       "    <tr>\n",
       "      <th>2</th>\n",
       "      <td>Model</td>\n",
       "      <td>0.042165</td>\n",
       "    </tr>\n",
       "    <tr>\n",
       "      <th>3</th>\n",
       "      <td>Mileage</td>\n",
       "      <td>0.067658</td>\n",
       "    </tr>\n",
       "    <tr>\n",
       "      <th>4</th>\n",
       "      <td>CC</td>\n",
       "      <td>0.183926</td>\n",
       "    </tr>\n",
       "    <tr>\n",
       "      <th>5</th>\n",
       "      <td>Fuel</td>\n",
       "      <td>0.007469</td>\n",
       "    </tr>\n",
       "    <tr>\n",
       "      <th>6</th>\n",
       "      <td>Brand_audi</td>\n",
       "      <td>0.008484</td>\n",
       "    </tr>\n",
       "    <tr>\n",
       "      <th>7</th>\n",
       "      <td>Brand_bmw</td>\n",
       "      <td>0.001148</td>\n",
       "    </tr>\n",
       "    <tr>\n",
       "      <th>8</th>\n",
       "      <td>Brand_citroen</td>\n",
       "      <td>0.000494</td>\n",
       "    </tr>\n",
       "    <tr>\n",
       "      <th>9</th>\n",
       "      <td>Brand_fiat</td>\n",
       "      <td>0.001472</td>\n",
       "    </tr>\n",
       "    <tr>\n",
       "      <th>10</th>\n",
       "      <td>Brand_ford</td>\n",
       "      <td>0.002018</td>\n",
       "    </tr>\n",
       "    <tr>\n",
       "      <th>11</th>\n",
       "      <td>Brand_honda</td>\n",
       "      <td>0.001949</td>\n",
       "    </tr>\n",
       "    <tr>\n",
       "      <th>12</th>\n",
       "      <td>Brand_hyundai</td>\n",
       "      <td>0.000909</td>\n",
       "    </tr>\n",
       "    <tr>\n",
       "      <th>13</th>\n",
       "      <td>Brand_kia</td>\n",
       "      <td>0.000858</td>\n",
       "    </tr>\n",
       "    <tr>\n",
       "      <th>14</th>\n",
       "      <td>Brand_mazda</td>\n",
       "      <td>0.000420</td>\n",
       "    </tr>\n",
       "    <tr>\n",
       "      <th>15</th>\n",
       "      <td>Brand_mercedes-benz</td>\n",
       "      <td>0.005211</td>\n",
       "    </tr>\n",
       "    <tr>\n",
       "      <th>16</th>\n",
       "      <td>Brand_mitsubishi</td>\n",
       "      <td>0.000355</td>\n",
       "    </tr>\n",
       "    <tr>\n",
       "      <th>17</th>\n",
       "      <td>Brand_nissan</td>\n",
       "      <td>0.004197</td>\n",
       "    </tr>\n",
       "    <tr>\n",
       "      <th>18</th>\n",
       "      <td>Brand_opel</td>\n",
       "      <td>0.003572</td>\n",
       "    </tr>\n",
       "    <tr>\n",
       "      <th>19</th>\n",
       "      <td>Brand_peugeot</td>\n",
       "      <td>0.001073</td>\n",
       "    </tr>\n",
       "    <tr>\n",
       "      <th>20</th>\n",
       "      <td>Brand_renault</td>\n",
       "      <td>0.001895</td>\n",
       "    </tr>\n",
       "    <tr>\n",
       "      <th>21</th>\n",
       "      <td>Brand_seat</td>\n",
       "      <td>0.000699</td>\n",
       "    </tr>\n",
       "    <tr>\n",
       "      <th>22</th>\n",
       "      <td>Brand_skoda</td>\n",
       "      <td>0.000697</td>\n",
       "    </tr>\n",
       "    <tr>\n",
       "      <th>23</th>\n",
       "      <td>Brand_toyota</td>\n",
       "      <td>0.002523</td>\n",
       "    </tr>\n",
       "    <tr>\n",
       "      <th>24</th>\n",
       "      <td>Brand_volkswagen</td>\n",
       "      <td>0.002901</td>\n",
       "    </tr>\n",
       "    <tr>\n",
       "      <th>25</th>\n",
       "      <td>Brand_volvo</td>\n",
       "      <td>0.001081</td>\n",
       "    </tr>\n",
       "  </tbody>\n",
       "</table>\n",
       "</div>"
      ],
      "text/plain": [
       "               Features  Importances\n",
       "0              Year_prd     0.622482\n",
       "1            Year_model     0.034345\n",
       "2                 Model     0.042165\n",
       "3               Mileage     0.067658\n",
       "4                    CC     0.183926\n",
       "5                  Fuel     0.007469\n",
       "6            Brand_audi     0.008484\n",
       "7             Brand_bmw     0.001148\n",
       "8         Brand_citroen     0.000494\n",
       "9            Brand_fiat     0.001472\n",
       "10           Brand_ford     0.002018\n",
       "11          Brand_honda     0.001949\n",
       "12        Brand_hyundai     0.000909\n",
       "13            Brand_kia     0.000858\n",
       "14          Brand_mazda     0.000420\n",
       "15  Brand_mercedes-benz     0.005211\n",
       "16     Brand_mitsubishi     0.000355\n",
       "17         Brand_nissan     0.004197\n",
       "18           Brand_opel     0.003572\n",
       "19        Brand_peugeot     0.001073\n",
       "20        Brand_renault     0.001895\n",
       "21           Brand_seat     0.000699\n",
       "22          Brand_skoda     0.000697\n",
       "23         Brand_toyota     0.002523\n",
       "24     Brand_volkswagen     0.002901\n",
       "25          Brand_volvo     0.001081"
      ]
     },
     "execution_count": 18,
     "metadata": {},
     "output_type": "execute_result"
    }
   ],
   "source": [
    "df_feature_importances = pd.DataFrame({'Features':brand_getdummies_preprocess_X_data .columns,'Importances':rfr.feature_importances_})\n",
    "df_feature_importances"
   ]
  },
  {
   "cell_type": "code",
   "execution_count": 19,
   "metadata": {},
   "outputs": [],
   "source": [
    "df_feature_importances = df_feature_importances.sort_values('Importances',ascending=False)"
   ]
  },
  {
   "cell_type": "code",
   "execution_count": 20,
   "metadata": {},
   "outputs": [
    {
     "data": {
      "text/plain": [
       "<Axes: xlabel='Importances', ylabel='Features'>"
      ]
     },
     "execution_count": 20,
     "metadata": {},
     "output_type": "execute_result"
    },
    {
     "data": {
      "image/png": "[encoded data removed]",
      "text/plain": [
       "<Figure size 640x480 with 1 Axes>"
      ]
     },
     "metadata": {},
     "output_type": "display_data"
    }
   ],
   "source": [
    "import seaborn as sns\n",
    "\n",
    "sns.barplot(x='Importances',y='Features',data=df_feature_importances)"
   ]
  },
  {
   "attachments": {},
   "cell_type": "markdown",
   "metadata": {},
   "source": [
    "##### K-FOLD 교차 검증 학습 "
   ]
  },
  {
   "cell_type": "code",
   "execution_count": 19,
   "metadata": {},
   "outputs": [],
   "source": [
    "import pandas as pd\n",
    "\n",
    "preprocess_data_dir = 'preprocessed_data'\n",
    "\n",
    "brand_getdummies_preprocess_X_data = pd.read_csv(preprocess_data_dir+'/brand_getdummies_preprocess_X_data.csv',index_col=0)\n",
    "brand_getdummies_preprocess_Y_data = pd.read_csv(preprocess_data_dir+'/brand_getdummies_preprocess_Y_data.csv',index_col=0)"
   ]
  },
  {
   "cell_type": "code",
   "execution_count": 21,
   "metadata": {},
   "outputs": [
    {
     "name": "stdout",
     "output_type": "stream",
     "text": [
      "1번째 fold\n"
     ]
    },
    {
     "name": "stderr",
     "output_type": "stream",
     "text": [
      "C:\\Users\\user\\AppData\\Local\\Temp\\ipykernel_10508\\3983639849.py:23: DataConversionWarning: A column-vector y was passed when a 1d array was expected. Please change the shape of y to (n_samples,), for example using ravel().\n",
      "  rfr.fit(X_train, y_train)\n"
     ]
    },
    {
     "name": "stdout",
     "output_type": "stream",
     "text": [
      "mae :  6.471732631222785\n",
      "mse :  104.04922124867748\n",
      "rmse :  10.20045201197856\n",
      "r2 :  0.9132933359249268\n",
      "2번째 fold\n"
     ]
    },
    {
     "name": "stderr",
     "output_type": "stream",
     "text": [
      "C:\\Users\\user\\AppData\\Local\\Temp\\ipykernel_10508\\3983639849.py:23: DataConversionWarning: A column-vector y was passed when a 1d array was expected. Please change the shape of y to (n_samples,), for example using ravel().\n",
      "  rfr.fit(X_train, y_train)\n"
     ]
    },
    {
     "name": "stdout",
     "output_type": "stream",
     "text": [
      "mae :  6.271630501688591\n",
      "mse :  95.96383353795356\n",
      "rmse :  9.796113185235946\n",
      "r2 :  0.9200016608034516\n",
      "3번째 fold\n"
     ]
    },
    {
     "name": "stderr",
     "output_type": "stream",
     "text": [
      "C:\\Users\\user\\AppData\\Local\\Temp\\ipykernel_10508\\3983639849.py:23: DataConversionWarning: A column-vector y was passed when a 1d array was expected. Please change the shape of y to (n_samples,), for example using ravel().\n",
      "  rfr.fit(X_train, y_train)\n"
     ]
    },
    {
     "name": "stdout",
     "output_type": "stream",
     "text": [
      "mae :  6.37597198712296\n",
      "mse :  95.48285501414891\n",
      "rmse :  9.771532889682607\n",
      "r2 :  0.9205736331084344\n",
      "4번째 fold\n"
     ]
    },
    {
     "name": "stderr",
     "output_type": "stream",
     "text": [
      "C:\\Users\\user\\AppData\\Local\\Temp\\ipykernel_10508\\3983639849.py:23: DataConversionWarning: A column-vector y was passed when a 1d array was expected. Please change the shape of y to (n_samples,), for example using ravel().\n",
      "  rfr.fit(X_train, y_train)\n"
     ]
    },
    {
     "name": "stdout",
     "output_type": "stream",
     "text": [
      "mae :  6.240686148352486\n",
      "mse :  92.26161257131841\n",
      "rmse :  9.605290863441795\n",
      "r2 :  0.9214647508773394\n",
      "5번째 fold\n"
     ]
    },
    {
     "name": "stderr",
     "output_type": "stream",
     "text": [
      "C:\\Users\\user\\AppData\\Local\\Temp\\ipykernel_10508\\3983639849.py:23: DataConversionWarning: A column-vector y was passed when a 1d array was expected. Please change the shape of y to (n_samples,), for example using ravel().\n",
      "  rfr.fit(X_train, y_train)\n"
     ]
    },
    {
     "name": "stdout",
     "output_type": "stream",
     "text": [
      "mae :  6.342605713526608\n",
      "mse :  97.05823681357121\n",
      "rmse :  9.851813884436266\n",
      "r2 :  0.9179379817765325\n",
      "평균  Mae  :  6.340525396382686\n",
      "평균  Mse  :  96.96315183713392\n",
      "평균  Rmse  :  9.845040566955035\n",
      "평균  R2  :  0.9186542724981368\n"
     ]
    }
   ],
   "source": [
    "from sklearn.model_selection import KFold\n",
    "\n",
    "def exec_kfold(preprocess_X,preprocess_Y,folds=5):\n",
    "\n",
    "    from sklearn.ensemble import RandomForestRegressor\n",
    "    import numpy as np\n",
    "\n",
    "    rfr = RandomForestRegressor(random_state=777)\n",
    "\n",
    "    kfold = KFold(n_splits=folds)\n",
    "    evals = dict({'Mae':[],'Mse':[],'Rmse':[],'R2':[]})\n",
    "    mean_evals = dict({'Mae':[],'Mse':[],'Rmse':[],'R2':[]})\n",
    "    \n",
    "    # KFold 교차 검증 수행\n",
    "    for iter_count , (train_index, test_index) in enumerate(kfold.split(preprocess_X)):\n",
    "\n",
    "        print(str(iter_count+1) + \"번째 fold\")\n",
    "        # X_titanic_df 데이터에서 교차 검증별로 학습과 검증 데이터를 가리키는 index 생성\n",
    "        X_train, X_test = preprocess_X.values[train_index], preprocess_X.values[test_index]\n",
    "        y_train, y_test = preprocess_Y.values[train_index], preprocess_Y.values[test_index]\n",
    "        \n",
    "        # 회귀 모델 학습, 예측 \n",
    "        rfr.fit(X_train, y_train) \n",
    "        y_pred = rfr.predict(X_test)\n",
    "\n",
    "        # mae, mse, rmse, r2 \n",
    "        mae , mse , rmse , r2 = regression_eval(y_test,y_pred)\n",
    "\n",
    "        evals['Mae'].append(mae)\n",
    "        evals['Mse'].append(mse)\n",
    "        evals['Rmse'].append(rmse)\n",
    "        evals['R2'].append(r2)\n",
    "\n",
    "    mean_evals['CV'] = 'KFOLD = ' + str(folds) +'(mean)'\n",
    "    for key in evals.keys():\n",
    "        print(\"평균 \",key, \" : \", np.mean(evals[key]))\n",
    "        # mean_evals['Mean_'+key] = np.mean(evals[key])\n",
    "        mean_evals[key] = np.mean(evals[key])\n",
    "\n",
    "    return mean_evals\n",
    "\n",
    "# exec_kfold 호출\n",
    "mean_evals = exec_kfold(brand_getdummies_preprocess_X_data,brand_getdummies_preprocess_Y_data,folds=5) "
   ]
  },
  {
   "attachments": {},
   "cell_type": "markdown",
   "metadata": {},
   "source": [
    "##### No Cross Validation vs Cross Validation 평가 지표 비교"
   ]
  },
  {
   "cell_type": "code",
   "execution_count": 22,
   "metadata": {},
   "outputs": [
    {
     "data": {
      "text/html": [
       "<div>\n",
       "<style scoped>\n",
       "    .dataframe tbody tr th:only-of-type {\n",
       "        vertical-align: middle;\n",
       "    }\n",
       "\n",
       "    .dataframe tbody tr th {\n",
       "        vertical-align: top;\n",
       "    }\n",
       "\n",
       "    .dataframe thead th {\n",
       "        text-align: right;\n",
       "    }\n",
       "</style>\n",
       "<table border=\"1\" class=\"dataframe\">\n",
       "  <thead>\n",
       "    <tr style=\"text-align: right;\">\n",
       "      <th></th>\n",
       "      <th>CV</th>\n",
       "      <th>Mae</th>\n",
       "      <th>Mse</th>\n",
       "      <th>Rmse</th>\n",
       "      <th>R2</th>\n",
       "    </tr>\n",
       "  </thead>\n",
       "  <tbody>\n",
       "    <tr>\n",
       "      <th>0</th>\n",
       "      <td>-</td>\n",
       "      <td>6.292026</td>\n",
       "      <td>94.87573</td>\n",
       "      <td>9.740417</td>\n",
       "      <td>0.921588</td>\n",
       "    </tr>\n",
       "  </tbody>\n",
       "</table>\n",
       "</div>"
      ],
      "text/plain": [
       "  CV       Mae       Mse      Rmse        R2\n",
       "0  -  6.292026  94.87573  9.740417  0.921588"
      ]
     },
     "execution_count": 22,
     "metadata": {},
     "output_type": "execute_result"
    }
   ],
   "source": [
    "import pandas as pd\n",
    "\n",
    "df_evals = pd.DataFrame(evals,index=[0])\n",
    "df_evals"
   ]
  },
  {
   "cell_type": "code",
   "execution_count": 23,
   "metadata": {},
   "outputs": [
    {
     "data": {
      "text/html": [
       "<div>\n",
       "<style scoped>\n",
       "    .dataframe tbody tr th:only-of-type {\n",
       "        vertical-align: middle;\n",
       "    }\n",
       "\n",
       "    .dataframe tbody tr th {\n",
       "        vertical-align: top;\n",
       "    }\n",
       "\n",
       "    .dataframe thead th {\n",
       "        text-align: right;\n",
       "    }\n",
       "</style>\n",
       "<table border=\"1\" class=\"dataframe\">\n",
       "  <thead>\n",
       "    <tr style=\"text-align: right;\">\n",
       "      <th></th>\n",
       "      <th>CV</th>\n",
       "      <th>Mae</th>\n",
       "      <th>Mse</th>\n",
       "      <th>Rmse</th>\n",
       "      <th>R2</th>\n",
       "    </tr>\n",
       "  </thead>\n",
       "  <tbody>\n",
       "    <tr>\n",
       "      <th>0</th>\n",
       "      <td>KFOLD = 5(mean)</td>\n",
       "      <td>6.340525</td>\n",
       "      <td>96.963152</td>\n",
       "      <td>9.845041</td>\n",
       "      <td>0.918654</td>\n",
       "    </tr>\n",
       "  </tbody>\n",
       "</table>\n",
       "</div>"
      ],
      "text/plain": [
       "                CV       Mae        Mse      Rmse        R2\n",
       "0  KFOLD = 5(mean)  6.340525  96.963152  9.845041  0.918654"
      ]
     },
     "execution_count": 23,
     "metadata": {},
     "output_type": "execute_result"
    }
   ],
   "source": [
    "df_mean_evals= pd.DataFrame(mean_evals,index=[0])\n",
    "df_mean_evals = df_mean_evals[['CV','Mae','Mse','Rmse','R2']]\n",
    "df_mean_evals"
   ]
  },
  {
   "attachments": {},
   "cell_type": "markdown",
   "metadata": {},
   "source": [
    "##### GridSearchcv 하이퍼 파라미터 조정"
   ]
  },
  {
   "attachments": {
    "image.png": {
     "image/png": "[encoded data removed]"
    }
   },
   "cell_type": "markdown",
   "metadata": {},
   "source": [
    "![image.png](attachment:image.png)"
   ]
  },
  {
   "cell_type": "code",
   "execution_count": 25,
   "metadata": {},
   "outputs": [],
   "source": [
    "# params_grid = { 'n_estimators' : [100,200],\n",
    "#            'max_depth' : [6, 8, 10, 12],\n",
    "#            'min_samples_leaf' : [8, 12, 18],\n",
    "#            'min_samples_split' : [8, 16, 20]\n",
    "#             }"
   ]
  },
  {
   "cell_type": "code",
   "execution_count": null,
   "metadata": {},
   "outputs": [],
   "source": [
    "from sklearn.model_selection import GridSearchCV\n",
    "from sklearn.ensemble import RandomForestRegressor\n",
    "from sklearn.model_selection import train_test_split\n",
    "from sklearn.metrics import mean_absolute_error,mean_squared_error,r2_score\n",
    "import numpy as np\n",
    "import time\n",
    "import warnings\n",
    "\n",
    "\n",
    "warnings.filterwarnings(action='ignore')\n",
    "\n",
    "rfr = RandomForestRegressor(random_state=777)\n",
    "\n",
    "preprocess_X = pd.read_csv('preprocessed_data//preprocess_X_data.csv',index_col=0)\n",
    "preprocess_Y = pd.read_csv('preprocessed_data//preprocess_Y_data.csv',index_col=0) \n",
    "\n",
    "X_train, X_test , y_train , y_test = train_test_split(preprocess_X,preprocess_Y,test_size=0.2,random_state=777)\n",
    "\n",
    "scorings = ['neg_mean_absolute_error','neg_mean_squared_error','neg_root_mean_squared_error','r2']\n",
    "# param_grid = { \n",
    "#         \"n_estimators\"      : [5,10,15,20,25,30],\n",
    "#         \"max_features\"      : [\"auto\", \"sqrt\", \"log2\"],\n",
    "#         \"max_depth\" : [1,2,3,4],\n",
    "#         'max_leaf_nodes': [None,2,4,6,8], \n",
    "#         \"min_samples_split\" : [2,4,6,8],\n",
    "#         'min_samples_leaf':[2,4,6,8], \n",
    "#         # \"bootstrap\": [True, False],\n",
    "#         }\n",
    "\n",
    "params_grid = { 'n_estimators' : [100,200],\n",
    "           'max_depth' : [6, 8, 10, 12],\n",
    "           'min_samples_leaf' : [8, 12, 18],\n",
    "           'min_samples_split' : [8, 16, 20]\n",
    "            }\n",
    "\n",
    "start = time.time()\n",
    "\n",
    "for scoring in scorings:\n",
    "\n",
    "    print(\"----------- scoring type : \", scoring,\" ----------- \")\n",
    "\n",
    "    # n_jobs = -1 모든 CPU 코어 사용\n",
    "    grid_rfr = GridSearchCV(rfr, \n",
    "                            param_grid=params_grid , \n",
    "                            scoring=scoring, \n",
    "                            cv=5,\n",
    "                            n_jobs=-1)\n",
    "    \n",
    "    grid_rfr.fit(X_train , y_train)\n",
    "\n",
    "    print('GridSearchCV 최적 하이퍼 파라미터 :',grid_rfr.best_params_)\n",
    "    print('GridSearchCV 최고 정확도: {0:.4f}'.format(grid_rfr.best_score_))\n",
    "    best_dclf = grid_rfr.best_estimator_\n",
    "\n",
    "    # GridSearchCV의 최적 하이퍼 파라미터로 학습된 Estimator로 예측 및 평가 수행. \n",
    "    y_pred = best_dclf.predict(X_test)\n",
    "\n",
    "    if scoring == 'neg_mean_absolute_error':\n",
    "        mae = mean_absolute_error(y_test , y_pred)\n",
    "        print('테스트 세트에서의 RandomForestRegressor mae : ', mae)\n",
    "    elif scoring == 'neg_mean_squared_error':\n",
    "        mse = mean_squared_error(y_test , y_pred)\n",
    "        print('테스트 세트에서의 RandomForestRegressor mse : ', mse)\n",
    "    elif scoring == 'neg_root_mean_squared_error':\n",
    "        rmse = np.sqrt(mean_squared_error(y_test , y_pred))\n",
    "        print('테스트 세트에서의 RandomForestRegressor rmse : ', rmse)\n",
    "    else:\n",
    "        r2 = r2_score(y_test , y_pred)\n",
    "        print('테스트 세트에서의 RandomForestRegressor r2 : ', r2)\n",
    "\n",
    "print(\"GridSearchcv 소요시간 : \", time.time()-start)"
   ]
  },
  {
   "cell_type": "code",
   "execution_count": null,
   "metadata": {},
   "outputs": [],
   "source": [
    "# params_grid = { 'n_estimators' : [200,300,400],\n",
    "#            'max_depth' : [6, 8, 10, 12],\n",
    "#            'min_samples_leaf' : [8, 12, 18],\n",
    "#            'min_samples_split' : [8, 16, 20]\n",
    "#             }"
   ]
  },
  {
   "cell_type": "code",
   "execution_count": null,
   "metadata": {},
   "outputs": [],
   "source": [
    "from sklearn.model_selection import GridSearchCV\n",
    "from sklearn.ensemble import RandomForestRegressor\n",
    "from sklearn.model_selection import train_test_split\n",
    "from sklearn.metrics import mean_absolute_error,mean_squared_error,r2_score\n",
    "import numpy as np\n",
    "import time\n",
    "import warnings\n",
    "\n",
    "\n",
    "warnings.filterwarnings(action='ignore')\n",
    "\n",
    "rfr = RandomForestRegressor(random_state=777)\n",
    "\n",
    "preprocess_X = pd.read_csv('preprocessed_data//preprocess_X_data.csv',index_col=0)\n",
    "preprocess_Y = pd.read_csv('preprocessed_data//preprocess_Y_data.csv',index_col=0) \n",
    "\n",
    "X_train, X_test , y_train , y_test = train_test_split(preprocess_X,preprocess_Y,test_size=0.2,random_state=777)\n",
    "\n",
    "scorings = ['neg_mean_absolute_error','neg_mean_squared_error','neg_root_mean_squared_error','r2']\n",
    "# param_grid = { \n",
    "#         \"n_estimators\"      : [5,10,15,20,25,30],\n",
    "#         \"max_features\"      : [\"auto\", \"sqrt\", \"log2\"],\n",
    "#         \"max_depth\" : [1,2,3,4],\n",
    "#         'max_leaf_nodes': [None,2,4,6,8], \n",
    "#         \"min_samples_split\" : [2,4,6,8],\n",
    "#         'min_samples_leaf':[2,4,6,8], \n",
    "#         # \"bootstrap\": [True, False],\n",
    "#         }\n",
    "\n",
    "params_grid = { 'n_estimators' : [200,300,400],\n",
    "           'max_depth' : [6, 8, 10, 12],\n",
    "           'min_samples_leaf' : [8, 12, 18],\n",
    "           'min_samples_split' : [8, 16, 20]\n",
    "            }\n",
    "\n",
    "start = time.time()\n",
    "\n",
    "for scoring in scorings:\n",
    "\n",
    "    print(\"----------- scoring type : \", scoring,\" ----------- \")\n",
    "\n",
    "    # n_jobs = -1 모든 CPU 코어 사용\n",
    "    grid_rfr = GridSearchCV(rfr, \n",
    "                            param_grid=params_grid , \n",
    "                            scoring=scoring, \n",
    "                            cv=5,\n",
    "                            n_jobs=-1)\n",
    "    \n",
    "    grid_rfr.fit(X_train , y_train)\n",
    "\n",
    "    print('GridSearchCV 최적 하이퍼 파라미터 :',grid_rfr.best_params_)\n",
    "    print('GridSearchCV 최고 정확도: {0:.4f}'.format(grid_rfr.best_score_))\n",
    "    best_dclf = grid_rfr.best_estimator_\n",
    "\n",
    "    # GridSearchCV의 최적 하이퍼 파라미터로 학습된 Estimator로 예측 및 평가 수행. \n",
    "    y_pred = best_dclf.predict(X_test)\n",
    "\n",
    "    if scoring == 'neg_mean_absolute_error':\n",
    "        mae = mean_absolute_error(y_test , y_pred)\n",
    "        print('테스트 세트에서의 RandomForestRegressor mae : ', mae)\n",
    "    elif scoring == 'neg_mean_squared_error':\n",
    "        mse = mean_squared_error(y_test , y_pred)\n",
    "        print('테스트 세트에서의 RandomForestRegressor mse : ', mse)\n",
    "    elif scoring == 'neg_root_mean_squared_error':\n",
    "        rmse = np.sqrt(mean_squared_error(y_test , y_pred))\n",
    "        print('테스트 세트에서의 RandomForestRegressor rmse : ', rmse)\n",
    "    else:\n",
    "        r2 = r2_score(y_test , y_pred)\n",
    "        print('테스트 세트에서의 RandomForestRegressor r2 : ', r2)\n",
    "\n",
    "print(\"GridSearchcv 소요시간 : \", time.time()-start)"
   ]
  },
  {
   "cell_type": "code",
   "execution_count": null,
   "metadata": {},
   "outputs": [],
   "source": [
    "from sklearn.model_selection import GridSearchCV\n",
    "from sklearn.ensemble import RandomForestRegressor\n",
    "from sklearn.model_selection import train_test_split\n",
    "from sklearn.metrics import mean_absolute_error,mean_squared_error,r2_score\n",
    "import numpy as np\n",
    "import time\n",
    "import warnings\n",
    "\n",
    "\n",
    "warnings.filterwarnings(action='ignore')\n",
    "\n",
    "rfr = RandomForestRegressor(random_state=777)\n",
    "\n",
    "preprocess_X = pd.read_csv('preprocessed_data//preprocess_X_data.csv',index_col=0)\n",
    "preprocess_Y = pd.read_csv('preprocessed_data//preprocess_Y_data.csv',index_col=0) \n",
    "\n",
    "X_train, X_test , y_train , y_test = train_test_split(preprocess_X,preprocess_Y,test_size=0.2,random_state=777)\n",
    "\n",
    "scorings = ['neg_mean_absolute_error','neg_mean_squared_error','neg_root_mean_squared_error','r2']\n",
    "# param_grid = { \n",
    "#         \"n_estimators\"      : [5,10,15,20,25,30],\n",
    "#         \"max_features\"      : [\"auto\", \"sqrt\", \"log2\"],\n",
    "#         \"max_depth\" : [1,2,3,4],\n",
    "#         'max_leaf_nodes': [None,2,4,6,8], \n",
    "#         \"min_samples_split\" : [2,4,6,8],\n",
    "#         'min_samples_leaf':[2,4,6,8], \n",
    "#         # \"bootstrap\": [True, False],\n",
    "#         }\n",
    "\n",
    "params_grid = { 'n_estimators' : [600,800,1000],\n",
    "           'max_depth' : [6, 8, 10, 12],\n",
    "           'min_samples_leaf' : [4,8,12,16],\n",
    "           'min_samples_split' : [4,8,12,16]\n",
    "            }\n",
    "\n",
    "start = time.time()\n",
    "\n",
    "for scoring in scorings:\n",
    "\n",
    "    print(\"----------- scoring type : \", scoring,\" ----------- \")\n",
    "\n",
    "    # n_jobs = -1 모든 CPU 코어 사용\n",
    "    grid_rfr = GridSearchCV(rfr, \n",
    "                            param_grid=params_grid , \n",
    "                            scoring=scoring, \n",
    "                            cv=5,\n",
    "                            n_jobs=-1)\n",
    "    \n",
    "    grid_rfr.fit(X_train , y_train)\n",
    "\n",
    "    print('GridSearchCV 최적 하이퍼 파라미터 :',grid_rfr.best_params_)\n",
    "    print('GridSearchCV 최고 정확도: {0:.4f}'.format(grid_rfr.best_score_))\n",
    "    best_dclf = grid_rfr.best_estimator_\n",
    "\n",
    "    # GridSearchCV의 최적 하이퍼 파라미터로 학습된 Estimator로 예측 및 평가 수행. \n",
    "    y_pred = best_dclf.predict(X_test)\n",
    "\n",
    "    if scoring == 'neg_mean_absolute_error':\n",
    "        mae = mean_absolute_error(y_test , y_pred)\n",
    "        print('테스트 세트에서의 RandomForestRegressor mae : ', mae)\n",
    "    elif scoring == 'neg_mean_squared_error':\n",
    "        mse = mean_squared_error(y_test , y_pred)\n",
    "        print('테스트 세트에서의 RandomForestRegressor mse : ', mse)\n",
    "    elif scoring == 'neg_root_mean_squared_error':\n",
    "        rmse = np.sqrt(mean_squared_error(y_test , y_pred))\n",
    "        print('테스트 세트에서의 RandomForestRegressor rmse : ', rmse)\n",
    "    else:\n",
    "        r2 = r2_score(y_test , y_pred)\n",
    "        print('테스트 세트에서의 RandomForestRegressor r2 : ', r2)\n",
    "\n",
    "print(\"GridSearchcv 소요시간 : \", time.time()-start)"
   ]
  }
 ],
 "metadata": {
  "kernelspec": {
   "display_name": "py",
   "language": "python",
   "name": "python3"
  },
  "language_info": {
   "codemirror_mode": {
    "name": "ipython",
    "version": 3
   },
   "file_extension": ".py",
   "mimetype": "text/x-python",
   "name": "python",
   "nbconvert_exporter": "python",
   "pygments_lexer": "ipython3",
   "version": "3.11.3"
  },
  "orig_nbformat": 4
 },
 "nbformat": 4,
 "nbformat_minor": 2
}
