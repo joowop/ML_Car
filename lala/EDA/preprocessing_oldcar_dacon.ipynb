{
 "cells": [
  {
   "attachments": {},
   "cell_type": "markdown",
   "metadata": {},
   "source": [
    "## 데이터 전처리"
   ]
  },
  {
   "cell_type": "code",
   "execution_count": 252,
   "metadata": {},
   "outputs": [],
   "source": [
    "import pandas as pd\n",
    "from sklearn.preprocessing import LabelEncoder, StandardScaler, MinMaxScaler\n",
    "import numpy as np\n",
    "from sklearn.model_selection import train_test_split\n",
    "from sklearn.linear_model import LinearRegression\n",
    "from sklearn.metrics import r2_score, mean_squared_error, mean_absolute_error"
   ]
  },
  {
   "cell_type": "code",
   "execution_count": 253,
   "metadata": {},
   "outputs": [],
   "source": [
    "df = pd.read_csv('../csv/train.csv')"
   ]
  },
  {
   "cell_type": "code",
   "execution_count": 254,
   "metadata": {},
   "outputs": [
    {
     "name": "stdout",
     "output_type": "stream",
     "text": [
      "<class 'pandas.core.frame.DataFrame'>\n",
      "RangeIndex: 56695 entries, 0 to 56694\n",
      "Data columns (total 12 columns):\n",
      " #   Column       Non-Null Count  Dtype  \n",
      "---  ------       --------------  -----  \n",
      " 0   생산년도         56695 non-null  int64  \n",
      " 1   브랜드          56695 non-null  object \n",
      " 2   차량모델명        56695 non-null  object \n",
      " 3   주행거리         56695 non-null  int64  \n",
      " 4   배기량          56695 non-null  int64  \n",
      " 5   압축천연가스(CNG)  56695 non-null  int64  \n",
      " 6   경유           56695 non-null  int64  \n",
      " 7   가솔린          56695 non-null  int64  \n",
      " 8   하이브리드        56695 non-null  int64  \n",
      " 9   액화석유가스(LPG)  56695 non-null  int64  \n",
      " 10  가격           56695 non-null  float64\n",
      " 11  연평균주행거리      56695 non-null  float64\n",
      "dtypes: float64(2), int64(8), object(2)\n",
      "memory usage: 5.2+ MB\n"
     ]
    }
   ],
   "source": [
    "drop_cols = ['ID','판매도시','판매구역','모델출시년도']\n",
    "df = df.drop(columns=drop_cols)\n",
    "df = df[df[\"주행거리\"] >= 200]\n",
    "df['연평균주행거리'] = df['주행거리'] / (2022 - df['생산년도'])\n",
    "df = df[df['연평균주행거리'] <= 100000]\n",
    "df = df.reset_index(drop=True)\n",
    "df.info()"
   ]
  },
  {
   "cell_type": "code",
   "execution_count": 255,
   "metadata": {},
   "outputs": [],
   "source": [
    "# 레이블 인코딩(Label Encoding) - 차량모델명 컬럼\n",
    "label_encoder = LabelEncoder()\n",
    "df['차량모델명'] = label_encoder.fit_transform(df['차량모델명'])\n",
    "\n",
    "# 원핫 인코딩(One-Hot Encoding) - 차량모델명 컬럼\n",
    "df = pd.get_dummies(df)"
   ]
  },
  {
   "attachments": {},
   "cell_type": "markdown",
   "metadata": {},
   "source": [
    "## 스케일링"
   ]
  },
  {
   "cell_type": "code",
   "execution_count": 256,
   "metadata": {},
   "outputs": [],
   "source": [
    "# 로그 스케일링\n",
    "df['주행거리'] = np.log(df['주행거리'])\n",
    "df['연평균주행거리'] = np.log(df['연평균주행거리'])\n",
    "df['배기량'] = np.log(df['배기량'])"
   ]
  },
  {
   "cell_type": "code",
   "execution_count": 257,
   "metadata": {},
   "outputs": [],
   "source": [
    "# # 스탠다드 스케일링\n",
    "# scaler = StandardScaler()\n",
    "# scaled_data = scaler.fit_transform(df)\n",
    "# scaled_df = pd.DataFrame(scaled_data, columns=df.columns)"
   ]
  },
  {
   "cell_type": "code",
   "execution_count": 258,
   "metadata": {},
   "outputs": [],
   "source": [
    "y_car_df = df['가격']\n",
    "X_car_df = df.drop('가격', axis=1)"
   ]
  },
  {
   "cell_type": "code",
   "execution_count": 259,
   "metadata": {},
   "outputs": [],
   "source": [
    "X_train, X_test, y_train, y_test= train_test_split(X_car_df, y_car_df, test_size=0.2, random_state=78)"
   ]
  },
  {
   "cell_type": "code",
   "execution_count": 260,
   "metadata": {},
   "outputs": [
    {
     "name": "stdout",
     "output_type": "stream",
     "text": [
      "\n",
      "      정확도 : 0.7956653650827804\n",
      "      RMSE : 15.70754991901913\n",
      "      MAE : 11.484296756368353\n",
      "      \n"
     ]
    }
   ],
   "source": [
    "linear_model = LinearRegression()\n",
    "linear_model.fit(X_train, y_train)\n",
    "linear_pred = linear_model.predict(X_test)\n",
    "print(f'''\n",
    "      정확도 : {r2_score(y_test, linear_pred)}\n",
    "      RMSE : {np.sqrt(mean_squared_error(y_test, linear_pred))}\n",
    "      MAE : {mean_absolute_error(y_test, linear_pred)}\n",
    "      ''')"
   ]
  }
 ],
 "metadata": {
  "kernelspec": {
   "display_name": "meta",
   "language": "python",
   "name": "python3"
  },
  "language_info": {
   "codemirror_mode": {
    "name": "ipython",
    "version": 3
   },
   "file_extension": ".py",
   "mimetype": "text/x-python",
   "name": "python",
   "nbconvert_exporter": "python",
   "pygments_lexer": "ipython3",
   "version": "3.11.3"
  },
  "orig_nbformat": 4
 },
 "nbformat": 4,
 "nbformat_minor": 2
}
