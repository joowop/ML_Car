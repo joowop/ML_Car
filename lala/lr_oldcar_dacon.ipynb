{
 "cells": [
  {
   "attachments": {},
   "cell_type": "markdown",
   "metadata": {},
   "source": [
    "## 데이터 전처리"
   ]
  },
  {
   "cell_type": "code",
   "execution_count": 15,
   "metadata": {},
   "outputs": [],
   "source": [
    "import pandas as pd\n",
    "from sklearn.preprocessing import LabelEncoder, StandardScaler\n",
    "import numpy as np\n",
    "from sklearn.model_selection import train_test_split, cross_val_score\n",
    "from sklearn.linear_model import LinearRegression\n",
    "from sklearn.metrics import r2_score, mean_squared_error, mean_absolute_error\n",
    "import seaborn as sns\n",
    "import matplotlib.pyplot as plt"
   ]
  },
  {
   "cell_type": "code",
   "execution_count": 16,
   "metadata": {},
   "outputs": [],
   "source": [
    "df = pd.read_csv('csv/train.csv')"
   ]
  },
  {
   "attachments": {},
   "cell_type": "markdown",
   "metadata": {},
   "source": []
  },
  {
   "cell_type": "code",
   "execution_count": 17,
   "metadata": {},
   "outputs": [],
   "source": [
    "# 차트 한글폰트\n",
    "plt.rc('font', family='Malgun Gothic')"
   ]
  },
  {
   "cell_type": "code",
   "execution_count": 18,
   "metadata": {},
   "outputs": [],
   "source": [
    "def prep(df):\n",
    "    drop_cols = ['ID','압축천연가스(CNG)','경유','가솔린','하이브리드','액화석유가스(LPG)','판매구역','판매도시']\n",
    "\n",
    "    # '연료' 컬럼 생성 및 값 할당\n",
    "    df['연료'] = 0\n",
    "    # '액화석유가스(LPG)'에 해당하는 경우 4 할당\n",
    "    df.loc[df['액화석유가스(LPG)'] == 1, '연료'] = 0\n",
    "    # '경유'에 해당하는 경우 1 할당\n",
    "    df.loc[df['경유'] == 1, '연료'] = 1\n",
    "    # '가솔린'에 해당하는 경우 2 할당\n",
    "    df.loc[df['가솔린'] == 1, '연료'] = 2\n",
    "    # '압축천연가스(CNG)'에 해당하는 경우 3 할당\n",
    "    df.loc[df['압축천연가스(CNG)'] == 1, '연료'] = 3\n",
    "    # '하이브리드'에 해당하는 경우 4 할당\n",
    "    df.loc[df['하이브리드'] == 1, '연료'] = 4\n",
    "\n",
    "    # 기존 컬럼 제거\n",
    "    df.drop(columns=drop_cols, inplace=True)\n",
    "    df = df[df['주행거리'] != df['주행거리'].max()]\n",
    "    df = df[df[\"주행거리\"] >= 200]\n",
    "    df = df.reset_index(drop=True)\n",
    "    \n",
    "    # 레이블 인코딩(Label Encoding) - 차량모델명 컬럼\n",
    "    label_encoder = LabelEncoder()\n",
    "    df['차량모델명'] = label_encoder.fit_transform(df['차량모델명'])\n",
    "    # df['브랜드'] = label_encoder.fit_transform(df['브랜드'])\n",
    "    \n",
    "    # 원핫인코딩 - 브랜드 컬럼\n",
    "    df = pd.get_dummies(df)\n",
    "    \n",
    "    df.info()\n",
    "    return df"
   ]
  },
  {
   "cell_type": "code",
   "execution_count": 19,
   "metadata": {},
   "outputs": [
    {
     "name": "stdout",
     "output_type": "stream",
     "text": [
      "<class 'pandas.core.frame.DataFrame'>\n",
      "RangeIndex: 56698 entries, 0 to 56697\n",
      "Data columns (total 27 columns):\n",
      " #   Column             Non-Null Count  Dtype  \n",
      "---  ------             --------------  -----  \n",
      " 0   생산년도               56698 non-null  int64  \n",
      " 1   모델출시년도             56698 non-null  int64  \n",
      " 2   차량모델명              56698 non-null  int32  \n",
      " 3   주행거리               56698 non-null  int64  \n",
      " 4   배기량                56698 non-null  int64  \n",
      " 5   가격                 56698 non-null  float64\n",
      " 6   연료                 56698 non-null  int64  \n",
      " 7   브랜드_audi           56698 non-null  uint8  \n",
      " 8   브랜드_bmw            56698 non-null  uint8  \n",
      " 9   브랜드_citroen        56698 non-null  uint8  \n",
      " 10  브랜드_fiat           56698 non-null  uint8  \n",
      " 11  브랜드_ford           56698 non-null  uint8  \n",
      " 12  브랜드_honda          56698 non-null  uint8  \n",
      " 13  브랜드_hyundai        56698 non-null  uint8  \n",
      " 14  브랜드_kia            56698 non-null  uint8  \n",
      " 15  브랜드_mazda          56698 non-null  uint8  \n",
      " 16  브랜드_mercedes-benz  56698 non-null  uint8  \n",
      " 17  브랜드_mitsubishi     56698 non-null  uint8  \n",
      " 18  브랜드_nissan         56698 non-null  uint8  \n",
      " 19  브랜드_opel           56698 non-null  uint8  \n",
      " 20  브랜드_peugeot        56698 non-null  uint8  \n",
      " 21  브랜드_renault        56698 non-null  uint8  \n",
      " 22  브랜드_seat           56698 non-null  uint8  \n",
      " 23  브랜드_skoda          56698 non-null  uint8  \n",
      " 24  브랜드_toyota         56698 non-null  uint8  \n",
      " 25  브랜드_volkswagen     56698 non-null  uint8  \n",
      " 26  브랜드_volvo          56698 non-null  uint8  \n",
      "dtypes: float64(1), int32(1), int64(5), uint8(20)\n",
      "memory usage: 3.9 MB\n"
     ]
    }
   ],
   "source": [
    "df = prep(df)\n"
   ]
  },
  {
   "attachments": {},
   "cell_type": "markdown",
   "metadata": {},
   "source": [
    "## 스케일링"
   ]
  },
  {
   "cell_type": "code",
   "execution_count": 20,
   "metadata": {},
   "outputs": [],
   "source": [
    "# # 로그 스케일링\n",
    "# df['주행거리'] = np.log(df['주행거리'])"
   ]
  },
  {
   "cell_type": "code",
   "execution_count": 21,
   "metadata": {},
   "outputs": [],
   "source": [
    "# # 스탠다드 스케일링\n",
    "# scaler = StandardScaler()\n",
    "# scaled_data = scaler.fit_transform(df)\n",
    "# scaled_df = pd.DataFrame(scaled_data, columns=df.columns)"
   ]
  },
  {
   "cell_type": "code",
   "execution_count": 22,
   "metadata": {},
   "outputs": [],
   "source": [
    "y_car_df = df['가격']\n",
    "X_car_df = df.drop('가격', axis=1)"
   ]
  },
  {
   "cell_type": "code",
   "execution_count": 23,
   "metadata": {},
   "outputs": [],
   "source": [
    "X_train, X_test, y_train, y_test= train_test_split(df, y_car_df, test_size=0.2)"
   ]
  },
  {
   "attachments": {},
   "cell_type": "markdown",
   "metadata": {},
   "source": [
    "## 선형회귀 - 분할된 학습"
   ]
  },
  {
   "cell_type": "code",
   "execution_count": 24,
   "metadata": {},
   "outputs": [
    {
     "name": "stdout",
     "output_type": "stream",
     "text": [
      "가격 100이상 - R2 Score: 0.15449038140291627\n",
      "가격 100이상 - MSE: 219.6142941914061\n",
      "가격 100이상 - MAE: 12.077298811526596\n",
      "가격 100이상 - RMSE: 14.81938913017018\n",
      "그외 - R2 Score: 0.7827147744573981\n",
      "그외 - MSE: 130.53612051249803\n",
      "그외 - MAE: 8.626305538030014\n",
      "그외 - RMSE: 11.425240501297907\n"
     ]
    },
    {
     "name": "stderr",
     "output_type": "stream",
     "text": [
      "C:\\Users\\user\\AppData\\Local\\Temp\\ipykernel_9892\\1636753001.py:5: UserWarning: Boolean Series key will be reindexed to match DataFrame index.\n",
      "  X_train_condition_satisfied = X_train[condition_train].drop('가격', axis=1)\n",
      "C:\\Users\\user\\AppData\\Local\\Temp\\ipykernel_9892\\1636753001.py:6: UserWarning: Boolean Series key will be reindexed to match DataFrame index.\n",
      "  X_train_condition_not_satisfied = X_train[~condition_train].drop('가격', axis=1)\n",
      "C:\\Users\\user\\AppData\\Local\\Temp\\ipykernel_9892\\1636753001.py:10: UserWarning: Boolean Series key will be reindexed to match DataFrame index.\n",
      "  X_test_condition_satisfied = X_test[condition_test].drop('가격', axis=1)\n",
      "C:\\Users\\user\\AppData\\Local\\Temp\\ipykernel_9892\\1636753001.py:11: UserWarning: Boolean Series key will be reindexed to match DataFrame index.\n",
      "  X_test_condition_not_satisfied = X_test[~condition_test].drop('가격', axis=1)\n"
     ]
    }
   ],
   "source": [
    "# 분할된 학습\n",
    "condition_train = (df['가격'] >= 100)\n",
    "condition_test = (df['가격'] >= 100)\n",
    "\n",
    "X_train_condition_satisfied = X_train[condition_train].drop('가격', axis=1)\n",
    "X_train_condition_not_satisfied = X_train[~condition_train].drop('가격', axis=1)\n",
    "y_train_condition_satisfied = y_train[condition_train]\n",
    "y_train_condition_not_satisfied = y_train[~condition_train]\n",
    "\n",
    "X_test_condition_satisfied = X_test[condition_test].drop('가격', axis=1)\n",
    "X_test_condition_not_satisfied = X_test[~condition_test].drop('가격', axis=1)\n",
    "y_test_condition_satisfied = y_test[condition_test]\n",
    "y_test_condition_not_satisfied = y_test[~condition_test]\n",
    "\n",
    "# 모델 생성\n",
    "model_condition_satisfied = LinearRegression()\n",
    "model_condition_not_satisfied = LinearRegression()\n",
    "# 모델 학습\n",
    "model_condition_satisfied.fit(X_train_condition_satisfied, y_train_condition_satisfied)\n",
    "model_condition_not_satisfied.fit(X_train_condition_not_satisfied, y_train_condition_not_satisfied)\n",
    "\n",
    "# 예측\n",
    "prediction_satisfied = model_condition_satisfied.predict(X_test_condition_satisfied)\n",
    "prediction_not_satisfied = model_condition_not_satisfied.predict(X_test_condition_not_satisfied)\n",
    "\n",
    "# R2 스코어 계산\n",
    "r2_condition_satisfied = r2_score(y_test_condition_satisfied, prediction_satisfied)\n",
    "r2_condition_not_satisfied = r2_score(y_test_condition_not_satisfied, prediction_not_satisfied)\n",
    "\n",
    "# MSE 계산\n",
    "mse_condition_satisfied = mean_squared_error(y_test_condition_satisfied, prediction_satisfied)\n",
    "mse_condition_not_satisfied = mean_squared_error(y_test_condition_not_satisfied, prediction_not_satisfied)\n",
    "\n",
    "# MAE 계산\n",
    "mae_condition_satisfied = mean_absolute_error(y_test_condition_satisfied, prediction_satisfied)\n",
    "mae_condition_not_satisfied = mean_absolute_error(y_test_condition_not_satisfied, prediction_not_satisfied)\n",
    "\n",
    "# RMSE 계산\n",
    "rmse_condition_satisfied = np.sqrt(mse_condition_satisfied)\n",
    "rmse_condition_not_satisfied = np.sqrt(mse_condition_not_satisfied)\n",
    "\n",
    "\n",
    "# 결과 출력\n",
    "\n",
    "print(\"가격 100이상 - R2 Score:\", r2_condition_satisfied)\n",
    "print(\"가격 100이상 - MSE:\", mse_condition_satisfied)\n",
    "print(\"가격 100이상 - MAE:\", mae_condition_satisfied)\n",
    "print(\"가격 100이상 - RMSE:\", rmse_condition_satisfied)\n",
    "print(\"그외 - R2 Score:\", r2_condition_not_satisfied)\n",
    "print(\"그외 - MSE:\", mse_condition_not_satisfied)\n",
    "print(\"그외 - MAE:\", mae_condition_not_satisfied)\n",
    "print(\"그외 - RMSE:\", rmse_condition_not_satisfied)"
   ]
  },
  {
   "attachments": {},
   "cell_type": "markdown",
   "metadata": {},
   "source": [
    "## 피처 확인"
   ]
  },
  {
   "cell_type": "code",
   "execution_count": 25,
   "metadata": {},
   "outputs": [
    {
     "data": {
      "text/html": [
       "<div>\n",
       "<style scoped>\n",
       "    .dataframe tbody tr th:only-of-type {\n",
       "        vertical-align: middle;\n",
       "    }\n",
       "\n",
       "    .dataframe tbody tr th {\n",
       "        vertical-align: top;\n",
       "    }\n",
       "\n",
       "    .dataframe thead th {\n",
       "        text-align: right;\n",
       "    }\n",
       "</style>\n",
       "<table border=\"1\" class=\"dataframe\">\n",
       "  <thead>\n",
       "    <tr style=\"text-align: right;\">\n",
       "      <th></th>\n",
       "      <th>Features</th>\n",
       "      <th>계수</th>\n",
       "    </tr>\n",
       "  </thead>\n",
       "  <tbody>\n",
       "    <tr>\n",
       "      <th>0</th>\n",
       "      <td>생산년도</td>\n",
       "      <td>2.106140</td>\n",
       "    </tr>\n",
       "    <tr>\n",
       "      <th>1</th>\n",
       "      <td>모델출시년도</td>\n",
       "      <td>0.478492</td>\n",
       "    </tr>\n",
       "    <tr>\n",
       "      <th>2</th>\n",
       "      <td>차량모델명</td>\n",
       "      <td>0.100178</td>\n",
       "    </tr>\n",
       "    <tr>\n",
       "      <th>3</th>\n",
       "      <td>주행거리</td>\n",
       "      <td>-0.000047</td>\n",
       "    </tr>\n",
       "    <tr>\n",
       "      <th>4</th>\n",
       "      <td>배기량</td>\n",
       "      <td>0.008506</td>\n",
       "    </tr>\n",
       "    <tr>\n",
       "      <th>5</th>\n",
       "      <td>연료</td>\n",
       "      <td>1.417227</td>\n",
       "    </tr>\n",
       "    <tr>\n",
       "      <th>6</th>\n",
       "      <td>브랜드_audi</td>\n",
       "      <td>13.449230</td>\n",
       "    </tr>\n",
       "    <tr>\n",
       "      <th>7</th>\n",
       "      <td>브랜드_bmw</td>\n",
       "      <td>3.942094</td>\n",
       "    </tr>\n",
       "    <tr>\n",
       "      <th>8</th>\n",
       "      <td>브랜드_citroen</td>\n",
       "      <td>4.116259</td>\n",
       "    </tr>\n",
       "    <tr>\n",
       "      <th>9</th>\n",
       "      <td>브랜드_fiat</td>\n",
       "      <td>-16.180634</td>\n",
       "    </tr>\n",
       "    <tr>\n",
       "      <th>10</th>\n",
       "      <td>브랜드_ford</td>\n",
       "      <td>-1.096417</td>\n",
       "    </tr>\n",
       "    <tr>\n",
       "      <th>11</th>\n",
       "      <td>브랜드_honda</td>\n",
       "      <td>1.870849</td>\n",
       "    </tr>\n",
       "    <tr>\n",
       "      <th>12</th>\n",
       "      <td>브랜드_hyundai</td>\n",
       "      <td>-8.062310</td>\n",
       "    </tr>\n",
       "    <tr>\n",
       "      <th>13</th>\n",
       "      <td>브랜드_kia</td>\n",
       "      <td>-5.307344</td>\n",
       "    </tr>\n",
       "    <tr>\n",
       "      <th>14</th>\n",
       "      <td>브랜드_mazda</td>\n",
       "      <td>1.079511</td>\n",
       "    </tr>\n",
       "    <tr>\n",
       "      <th>15</th>\n",
       "      <td>브랜드_mercedes-benz</td>\n",
       "      <td>14.315193</td>\n",
       "    </tr>\n",
       "    <tr>\n",
       "      <th>16</th>\n",
       "      <td>브랜드_mitsubishi</td>\n",
       "      <td>-0.485260</td>\n",
       "    </tr>\n",
       "    <tr>\n",
       "      <th>17</th>\n",
       "      <td>브랜드_nissan</td>\n",
       "      <td>-3.475376</td>\n",
       "    </tr>\n",
       "    <tr>\n",
       "      <th>18</th>\n",
       "      <td>브랜드_opel</td>\n",
       "      <td>-7.499710</td>\n",
       "    </tr>\n",
       "    <tr>\n",
       "      <th>19</th>\n",
       "      <td>브랜드_peugeot</td>\n",
       "      <td>13.087229</td>\n",
       "    </tr>\n",
       "    <tr>\n",
       "      <th>20</th>\n",
       "      <td>브랜드_renault</td>\n",
       "      <td>-7.520144</td>\n",
       "    </tr>\n",
       "    <tr>\n",
       "      <th>21</th>\n",
       "      <td>브랜드_seat</td>\n",
       "      <td>0.520033</td>\n",
       "    </tr>\n",
       "    <tr>\n",
       "      <th>22</th>\n",
       "      <td>브랜드_skoda</td>\n",
       "      <td>-1.510610</td>\n",
       "    </tr>\n",
       "    <tr>\n",
       "      <th>23</th>\n",
       "      <td>브랜드_toyota</td>\n",
       "      <td>-2.384272</td>\n",
       "    </tr>\n",
       "    <tr>\n",
       "      <th>24</th>\n",
       "      <td>브랜드_volkswagen</td>\n",
       "      <td>2.454401</td>\n",
       "    </tr>\n",
       "    <tr>\n",
       "      <th>25</th>\n",
       "      <td>브랜드_volvo</td>\n",
       "      <td>-1.312722</td>\n",
       "    </tr>\n",
       "  </tbody>\n",
       "</table>\n",
       "</div>"
      ],
      "text/plain": [
       "             Features         계수\n",
       "0                생산년도   2.106140\n",
       "1              모델출시년도   0.478492\n",
       "2               차량모델명   0.100178\n",
       "3                주행거리  -0.000047\n",
       "4                 배기량   0.008506\n",
       "5                  연료   1.417227\n",
       "6            브랜드_audi  13.449230\n",
       "7             브랜드_bmw   3.942094\n",
       "8         브랜드_citroen   4.116259\n",
       "9            브랜드_fiat -16.180634\n",
       "10           브랜드_ford  -1.096417\n",
       "11          브랜드_honda   1.870849\n",
       "12        브랜드_hyundai  -8.062310\n",
       "13            브랜드_kia  -5.307344\n",
       "14          브랜드_mazda   1.079511\n",
       "15  브랜드_mercedes-benz  14.315193\n",
       "16     브랜드_mitsubishi  -0.485260\n",
       "17         브랜드_nissan  -3.475376\n",
       "18           브랜드_opel  -7.499710\n",
       "19        브랜드_peugeot  13.087229\n",
       "20        브랜드_renault  -7.520144\n",
       "21           브랜드_seat   0.520033\n",
       "22          브랜드_skoda  -1.510610\n",
       "23         브랜드_toyota  -2.384272\n",
       "24     브랜드_volkswagen   2.454401\n",
       "25          브랜드_volvo  -1.312722"
      ]
     },
     "execution_count": 25,
     "metadata": {},
     "output_type": "execute_result"
    }
   ],
   "source": [
    "df_feature_importances = pd.DataFrame({'Features':X_test_condition_satisfied.columns,'계수':model_condition_satisfied.coef_})\n",
    "df_feature_importances"
   ]
  },
  {
   "cell_type": "code",
   "execution_count": 26,
   "metadata": {},
   "outputs": [
    {
     "name": "stdout",
     "output_type": "stream",
     "text": [
      "절편 값 :  -5113.390423128641\n"
     ]
    }
   ],
   "source": [
    "print('절편 값 : ' ,model_condition_satisfied.intercept_)"
   ]
  },
  {
   "cell_type": "code",
   "execution_count": 27,
   "metadata": {},
   "outputs": [
    {
     "data": {
      "text/plain": [
       "브랜드_mercedes-benz    14.3\n",
       "브랜드_audi             13.4\n",
       "브랜드_peugeot          13.1\n",
       "브랜드_citroen           4.1\n",
       "브랜드_bmw               3.9\n",
       "브랜드_volkswagen        2.5\n",
       "생산년도                  2.1\n",
       "브랜드_honda             1.9\n",
       "연료                    1.4\n",
       "브랜드_mazda             1.1\n",
       "브랜드_seat              0.5\n",
       "모델출시년도                0.5\n",
       "차량모델명                 0.1\n",
       "배기량                   0.0\n",
       "주행거리                 -0.0\n",
       "브랜드_mitsubishi       -0.5\n",
       "브랜드_ford             -1.1\n",
       "브랜드_volvo            -1.3\n",
       "브랜드_skoda            -1.5\n",
       "브랜드_toyota           -2.4\n",
       "브랜드_nissan           -3.5\n",
       "브랜드_kia              -5.3\n",
       "브랜드_opel             -7.5\n",
       "브랜드_renault          -7.5\n",
       "브랜드_hyundai          -8.1\n",
       "브랜드_fiat            -16.2\n",
       "dtype: float64"
      ]
     },
     "execution_count": 27,
     "metadata": {},
     "output_type": "execute_result"
    }
   ],
   "source": [
    "# 회기 계수가 큰 값 순으로 정렬\n",
    "coeff = pd.Series(data=np.round(model_condition_satisfied.coef_, 1), index=X_test_condition_satisfied.columns)\n",
    "coeff.sort_values(ascending=False)"
   ]
  },
  {
   "attachments": {},
   "cell_type": "markdown",
   "metadata": {},
   "source": [
    "## KFOLD"
   ]
  },
  {
   "cell_type": "code",
   "execution_count": 28,
   "metadata": {},
   "outputs": [],
   "source": [
    "# # cross_val_score()로 5 fold 세트로 MSE를 구한 뒤 이를 기반으로 다시 RMSE를 구함.\n",
    "# neg_mse_scores = cross_val_score(linear_model, X_car_df, y_car_df, scoring=\"neg_mean_squared_error\", cv=5)\n",
    "# rmse_scores = np.sqrt(-1 * neg_mse_scores)\n",
    "# avg_rmse = np.mean(rmse_scores)\n",
    "\n",
    "# print(f'''\n",
    "#       5 folds의 개별 Negative MSE 스코어 : {np.round(neg_mse_scores, 2)}\n",
    "#       5 folds의 개별 rmse 스코어 : {np.round(rmse_scores,2)}\n",
    "#       5 folds의 평균 rmse {avg_rmse}\n",
    "#       ''')"
   ]
  }
 ],
 "metadata": {
  "kernelspec": {
   "display_name": "meta",
   "language": "python",
   "name": "python3"
  },
  "language_info": {
   "codemirror_mode": {
    "name": "ipython",
    "version": 3
   },
   "file_extension": ".py",
   "mimetype": "text/x-python",
   "name": "python",
   "nbconvert_exporter": "python",
   "pygments_lexer": "ipython3",
   "version": "3.11.3"
  },
  "orig_nbformat": 4
 },
 "nbformat": 4,
 "nbformat_minor": 2
}
